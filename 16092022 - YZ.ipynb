{
 "cells": [
  {
   "cell_type": "code",
   "execution_count": 1,
   "id": "7e94342d",
   "metadata": {},
   "outputs": [],
   "source": [
    "import numpy as np"
   ]
  },
  {
   "cell_type": "code",
   "execution_count": 3,
   "id": "a5cf6a3d",
   "metadata": {},
   "outputs": [
    {
     "data": {
      "text/plain": [
       "array([[[  1,   2,   3],\n",
       "        [  4,   5,   6],\n",
       "        [  7,   8,   9]],\n",
       "\n",
       "       [[ 10,  20,  30],\n",
       "        [ 40,  50,  60],\n",
       "        [ 70,  80,  90]],\n",
       "\n",
       "       [[100, 200, 300],\n",
       "        [400, 500, 600],\n",
       "        [700, 800, 900]]])"
      ]
     },
     "execution_count": 3,
     "metadata": {},
     "output_type": "execute_result"
    }
   ],
   "source": [
    "T1 = np.array([\n",
    "    [[1,2,3], [4,5,6], [7,8,9]],\n",
    "    [[10,20,30], [40,50,60], [70,80,90]],\n",
    "    [[100,200,300], [400,500,600], [700,800,900]]\n",
    "    ])\n",
    "T1"
   ]
  },
  {
   "cell_type": "code",
   "execution_count": 4,
   "id": "7bfe6a76",
   "metadata": {},
   "outputs": [
    {
     "data": {
      "text/plain": [
       "array([[[0, 0, 0],\n",
       "        [0, 0, 0],\n",
       "        [0, 0, 0]],\n",
       "\n",
       "       [[1, 1, 1],\n",
       "        [1, 1, 1],\n",
       "        [1, 1, 1]],\n",
       "\n",
       "       [[2, 2, 2],\n",
       "        [2, 2, 2],\n",
       "        [2, 2, 2]]])"
      ]
     },
     "execution_count": 4,
     "metadata": {},
     "output_type": "execute_result"
    }
   ],
   "source": [
    "T2 = np.array([\n",
    "    [[0,0,0], [0,0,0], [0,0,0]],\n",
    "    [[1,1,1], [1,1,1], [1,1,1]],\n",
    "    [[2,2,2], [2,2,2], [2,2,2]]\n",
    "    ])\n",
    "T2"
   ]
  },
  {
   "cell_type": "code",
   "execution_count": 5,
   "id": "b26c87a8",
   "metadata": {},
   "outputs": [
    {
     "data": {
      "text/plain": [
       "array([[[  1,   2,   3],\n",
       "        [  4,   5,   6],\n",
       "        [  7,   8,   9]],\n",
       "\n",
       "       [[ 11,  21,  31],\n",
       "        [ 41,  51,  61],\n",
       "        [ 71,  81,  91]],\n",
       "\n",
       "       [[102, 202, 302],\n",
       "        [402, 502, 602],\n",
       "        [702, 802, 902]]])"
      ]
     },
     "execution_count": 5,
     "metadata": {},
     "output_type": "execute_result"
    }
   ],
   "source": [
    "A = T1 + T2\n",
    "A\n",
    "#OR\n",
    "np.add(T1, T2)"
   ]
  },
  {
   "cell_type": "code",
   "execution_count": 6,
   "id": "f68c846b",
   "metadata": {},
   "outputs": [
    {
     "data": {
      "text/plain": [
       "array([[[  1,   2,   3],\n",
       "        [  4,   5,   6],\n",
       "        [  7,   8,   9]],\n",
       "\n",
       "       [[  9,  19,  29],\n",
       "        [ 39,  49,  59],\n",
       "        [ 69,  79,  89]],\n",
       "\n",
       "       [[ 98, 198, 298],\n",
       "        [398, 498, 598],\n",
       "        [698, 798, 898]]])"
      ]
     },
     "execution_count": 6,
     "metadata": {},
     "output_type": "execute_result"
    }
   ],
   "source": [
    "S = T1 - T2\n",
    "S\n",
    "#OR\n",
    "np.subtract(T1, T2)"
   ]
  },
  {
   "cell_type": "code",
   "execution_count": 7,
   "id": "7a752899",
   "metadata": {},
   "outputs": [
    {
     "data": {
      "text/plain": [
       "array([[[   0,    0,    0],\n",
       "        [   0,    0,    0],\n",
       "        [   0,    0,    0]],\n",
       "\n",
       "       [[  10,   20,   30],\n",
       "        [  40,   50,   60],\n",
       "        [  70,   80,   90]],\n",
       "\n",
       "       [[ 200,  400,  600],\n",
       "        [ 800, 1000, 1200],\n",
       "        [1400, 1600, 1800]]])"
      ]
     },
     "execution_count": 7,
     "metadata": {},
     "output_type": "execute_result"
    }
   ],
   "source": [
    "P = T1 * T2\n",
    "P\n",
    "#OR\n",
    "np.multiply(T1, T2)"
   ]
  },
  {
   "cell_type": "code",
   "execution_count": 8,
   "id": "b4c01e14",
   "metadata": {},
   "outputs": [
    {
     "name": "stderr",
     "output_type": "stream",
     "text": [
      "<ipython-input-8-f02df7941bdf>:1: RuntimeWarning: divide by zero encountered in true_divide\n",
      "  D = T1 / T2\n",
      "<ipython-input-8-f02df7941bdf>:4: RuntimeWarning: divide by zero encountered in true_divide\n",
      "  np.divide(T1, T2)\n"
     ]
    },
    {
     "data": {
      "text/plain": [
       "array([[[ inf,  inf,  inf],\n",
       "        [ inf,  inf,  inf],\n",
       "        [ inf,  inf,  inf]],\n",
       "\n",
       "       [[ 10.,  20.,  30.],\n",
       "        [ 40.,  50.,  60.],\n",
       "        [ 70.,  80.,  90.]],\n",
       "\n",
       "       [[ 50., 100., 150.],\n",
       "        [200., 250., 300.],\n",
       "        [350., 400., 450.]]])"
      ]
     },
     "execution_count": 8,
     "metadata": {},
     "output_type": "execute_result"
    }
   ],
   "source": [
    "D = T1 / T2\n",
    "D\n",
    "#OR\n",
    "np.divide(T1, T2)"
   ]
  },
  {
   "cell_type": "code",
   "execution_count": 14,
   "id": "29774e5c",
   "metadata": {},
   "outputs": [
    {
     "data": {
      "text/plain": [
       "array([[[ 99.,  99.,  99.],\n",
       "        [ 99.,  99.,  99.],\n",
       "        [ 99.,  99.,  99.]],\n",
       "\n",
       "       [[ 10.,  20.,  30.],\n",
       "        [ 40.,  50.,  60.],\n",
       "        [ 70.,  80.,  90.]],\n",
       "\n",
       "       [[ 50., 100., 150.],\n",
       "        [200., 250., 300.],\n",
       "        [350., 400., 450.]]])"
      ]
     },
     "execution_count": 14,
     "metadata": {},
     "output_type": "execute_result"
    }
   ],
   "source": [
    "myarray = np.where(np.isinf(D), 99, D)\n",
    "myarray"
   ]
  },
  {
   "cell_type": "code",
   "execution_count": 15,
   "id": "387b4050",
   "metadata": {},
   "outputs": [],
   "source": [
    "import scipy as sp\n",
    "#scipy.linalg, scipy.special, scipy.integrate, scipy.optimize, scipy.fftpack, scipy.signal, \n",
    "#scipy.stats, scipy.ndimage, scipy.io"
   ]
  },
  {
   "cell_type": "code",
   "execution_count": 16,
   "id": "56c1b2f9",
   "metadata": {},
   "outputs": [
    {
     "name": "stdout",
     "output_type": "stream",
     "text": [
      "[[1 2]\n",
      " [3 4]]\n",
      "[[-2.   1. ]\n",
      " [ 1.5 -0.5]]\n"
     ]
    }
   ],
   "source": [
    "from scipy import linalg\n",
    "A = np.array([[1,2], [3,4]])\n",
    "print(A)\n",
    "B = linalg.inv(A)\n",
    "print(B)"
   ]
  },
  {
   "cell_type": "code",
   "execution_count": 17,
   "id": "511dcee0",
   "metadata": {},
   "outputs": [
    {
     "name": "stdout",
     "output_type": "stream",
     "text": [
      "[[-2.   1.5]\n",
      " [ 1.  -0.5]]\n"
     ]
    }
   ],
   "source": [
    "print(B.T)"
   ]
  },
  {
   "cell_type": "code",
   "execution_count": 18,
   "id": "dc8ba3a1",
   "metadata": {},
   "outputs": [
    {
     "name": "stdout",
     "output_type": "stream",
     "text": [
      "[[1 3 5]\n",
      " [2 5 1]\n",
      " [2 3 8]]\n",
      "[[10]\n",
      " [ 8]\n",
      " [ 3]]\n",
      "scipy-linalg ile denklem çözümü\n",
      "[[-9.28]\n",
      " [ 5.16]\n",
      " [ 0.76]]\n",
      "np-solve ile denklem çözümü\n",
      "[[-9.28]\n",
      " [ 5.16]\n",
      " [ 0.76]]\n"
     ]
    }
   ],
   "source": [
    "A = np.array([[1,3,5], [2,5,1], [2,3,8]])\n",
    "print(A)\n",
    "b = np.array([[10], [8], [3]])\n",
    "print(b)\n",
    "print(\"scipy-linalg ile denklem çözümü\")\n",
    "print(linalg.inv(A).dot(b))\n",
    "print(\"np-solve ile denklem çözümü\")\n",
    "print(np.linalg.solve(A, b))"
   ]
  },
  {
   "cell_type": "code",
   "execution_count": 19,
   "id": "c4ad28c2",
   "metadata": {},
   "outputs": [
    {
     "name": "stdout",
     "output_type": "stream",
     "text": [
      "(72.00000000000001, 7.993605777301129e-13)\n"
     ]
    }
   ],
   "source": [
    "from scipy import integrate\n",
    "x2 = lambda x : x**2\n",
    "I = integrate.quad(x2, 0, 6)\n",
    "print(I)"
   ]
  },
  {
   "cell_type": "code",
   "execution_count": 21,
   "id": "cc58c74c",
   "metadata": {},
   "outputs": [
    {
     "name": "stdout",
     "output_type": "stream",
     "text": [
      "(1.1178179380783244, 7.866317216380707e-09)\n"
     ]
    }
   ],
   "source": [
    "#Bessel function\n",
    "import scipy.special as special\n",
    "result = integrate.quad(lambda x:special.jv(2.5, x), 0, 4.5)\n",
    "print(result)"
   ]
  },
  {
   "cell_type": "code",
   "execution_count": 22,
   "id": "d54c9231",
   "metadata": {},
   "outputs": [],
   "source": [
    "from scipy.misc import derivative"
   ]
  },
  {
   "cell_type": "code",
   "execution_count": 23,
   "id": "43ec8a02",
   "metadata": {},
   "outputs": [
    {
     "name": "stdout",
     "output_type": "stream",
     "text": [
      "4.999999999921734\n"
     ]
    }
   ],
   "source": [
    "def f(x):\n",
    "    return x**3 + x**2\n",
    "D = derivative(f, 1.0, dx = 1e-6)\n",
    "print(D)"
   ]
  },
  {
   "cell_type": "code",
   "execution_count": 25,
   "id": "baea7078",
   "metadata": {},
   "outputs": [],
   "source": [
    "import pandas as pd\n",
    "import matplotlib.pyplot as plt\n",
    "import warnings\n",
    "warnings.filterwarnings(\"ignore\")"
   ]
  },
  {
   "cell_type": "code",
   "execution_count": 26,
   "id": "cca9b268",
   "metadata": {},
   "outputs": [],
   "source": [
    "#Seriler"
   ]
  },
  {
   "cell_type": "code",
   "execution_count": 27,
   "id": "c8008112",
   "metadata": {},
   "outputs": [
    {
     "data": {
      "text/plain": [
       "0    1\n",
       "1    2\n",
       "2    3\n",
       "3    4\n",
       "4    5\n",
       "5    6\n",
       "6    7\n",
       "dtype: int32"
      ]
     },
     "execution_count": 27,
     "metadata": {},
     "output_type": "execute_result"
    }
   ],
   "source": [
    "v = np.array([1,2,3,4,5,6,7])\n",
    "s1 = pd.Series(v)\n",
    "s1"
   ]
  },
  {
   "cell_type": "code",
   "execution_count": 28,
   "id": "22524f49",
   "metadata": {},
   "outputs": [
    {
     "data": {
      "text/plain": [
       "28"
      ]
     },
     "execution_count": 28,
     "metadata": {},
     "output_type": "execute_result"
    }
   ],
   "source": [
    "s1.nbytes"
   ]
  },
  {
   "cell_type": "code",
   "execution_count": 29,
   "id": "37c350d2",
   "metadata": {},
   "outputs": [
    {
     "data": {
      "text/plain": [
       "7"
      ]
     },
     "execution_count": 29,
     "metadata": {},
     "output_type": "execute_result"
    }
   ],
   "source": [
    "s1.count()"
   ]
  },
  {
   "cell_type": "code",
   "execution_count": 30,
   "id": "b793ce43",
   "metadata": {},
   "outputs": [
    {
     "data": {
      "text/plain": [
       "7"
      ]
     },
     "execution_count": 30,
     "metadata": {},
     "output_type": "execute_result"
    }
   ],
   "source": [
    "s1.size"
   ]
  },
  {
   "cell_type": "code",
   "execution_count": 31,
   "id": "aabbc3e8",
   "metadata": {},
   "outputs": [
    {
     "data": {
      "text/plain": [
       "1"
      ]
     },
     "execution_count": 31,
     "metadata": {},
     "output_type": "execute_result"
    }
   ],
   "source": [
    "s1.ndim"
   ]
  },
  {
   "cell_type": "code",
   "execution_count": 32,
   "id": "af658d4a",
   "metadata": {},
   "outputs": [
    {
     "data": {
      "text/plain": [
       "a    1\n",
       "b    2\n",
       "c    3\n",
       "dtype: int64"
      ]
     },
     "execution_count": 32,
     "metadata": {},
     "output_type": "execute_result"
    }
   ],
   "source": [
    "s0 = pd.Series([1,2,3], index = ['a', 'b', 'c'])\n",
    "s0"
   ]
  },
  {
   "cell_type": "code",
   "execution_count": 35,
   "id": "f5275756",
   "metadata": {},
   "outputs": [
    {
     "data": {
      "text/plain": [
       "a    1\n",
       "b    2\n",
       "c    3\n",
       "d    4\n",
       "e    5\n",
       "f    6\n",
       "g    7\n",
       "dtype: int32"
      ]
     },
     "execution_count": 35,
     "metadata": {},
     "output_type": "execute_result"
    }
   ],
   "source": [
    "s1.index = ['a', 'b', 'c', 'd', 'e', 'f', 'g']\n",
    "s1"
   ]
  },
  {
   "cell_type": "code",
   "execution_count": 36,
   "id": "004e29f0",
   "metadata": {},
   "outputs": [
    {
     "data": {
      "text/plain": [
       "(array([0.72647714, 0.44556267, 0.3362042 , 0.62864172, 0.65894839,\n",
       "        0.78108707, 0.78274764, 0.78414198, 0.74697424, 0.0847795 ]),\n",
       " array([0, 1, 2, 3, 4, 5, 6, 7, 8, 9]),\n",
       " 0    0.726477\n",
       " 1    0.445563\n",
       " 2    0.336204\n",
       " 3    0.628642\n",
       " 4    0.658948\n",
       " 5    0.781087\n",
       " 6    0.782748\n",
       " 7    0.784142\n",
       " 8    0.746974\n",
       " 9    0.084780\n",
       " dtype: float64)"
      ]
     },
     "execution_count": 36,
     "metadata": {},
     "output_type": "execute_result"
    }
   ],
   "source": [
    "v2 = np.random.random(10)\n",
    "ind2 = np.arange(0, 10)\n",
    "s = pd.Series(v2, ind2)\n",
    "v2, ind2, s"
   ]
  },
  {
   "cell_type": "code",
   "execution_count": 37,
   "id": "c4ab4947",
   "metadata": {},
   "outputs": [
    {
     "data": {
      "text/plain": [
       "a1    10\n",
       "a2    20\n",
       "a3    30\n",
       "a4    40\n",
       "dtype: int64"
      ]
     },
     "execution_count": 37,
     "metadata": {},
     "output_type": "execute_result"
    }
   ],
   "source": [
    "dict1 = {'a1':10, 'a2':20, 'a3':30, 'a4':40}\n",
    "s3 = pd.Series(dict1)\n",
    "s3"
   ]
  },
  {
   "cell_type": "code",
   "execution_count": 38,
   "id": "921be245",
   "metadata": {},
   "outputs": [
    {
     "data": {
      "text/plain": [
       "0    99\n",
       "1    99\n",
       "2    99\n",
       "3    99\n",
       "4    99\n",
       "5    99\n",
       "dtype: int64"
      ]
     },
     "execution_count": 38,
     "metadata": {},
     "output_type": "execute_result"
    }
   ],
   "source": [
    "pd.Series(99, index = [0,1,2,3,4,5])"
   ]
  },
  {
   "cell_type": "code",
   "execution_count": 39,
   "id": "80da0bee",
   "metadata": {},
   "outputs": [
    {
     "data": {
      "text/plain": [
       "0    0.726477\n",
       "1    0.445563\n",
       "2    0.336204\n",
       "3    0.628642\n",
       "4    0.658948\n",
       "5    0.781087\n",
       "6    0.782748\n",
       "7    0.784142\n",
       "8    0.746974\n",
       "9    0.084780\n",
       "dtype: float64"
      ]
     },
     "execution_count": 39,
     "metadata": {},
     "output_type": "execute_result"
    }
   ],
   "source": [
    "s"
   ]
  },
  {
   "cell_type": "code",
   "execution_count": 40,
   "id": "e5239c8e",
   "metadata": {},
   "outputs": [
    {
     "data": {
      "text/plain": [
       "0    0.726477\n",
       "1    0.445563\n",
       "2    0.336204\n",
       "3    0.628642\n",
       "4    0.658948\n",
       "5    0.781087\n",
       "6    0.782748\n",
       "7    0.784142\n",
       "8    0.746974\n",
       "9    0.084780\n",
       "dtype: float64"
      ]
     },
     "execution_count": 40,
     "metadata": {},
     "output_type": "execute_result"
    }
   ],
   "source": [
    "s[:]"
   ]
  },
  {
   "cell_type": "code",
   "execution_count": 41,
   "id": "f875a55e",
   "metadata": {},
   "outputs": [
    {
     "data": {
      "text/plain": [
       "0    0.726477\n",
       "1    0.445563\n",
       "2    0.336204\n",
       "dtype: float64"
      ]
     },
     "execution_count": 41,
     "metadata": {},
     "output_type": "execute_result"
    }
   ],
   "source": [
    "s[0:3]"
   ]
  },
  {
   "cell_type": "code",
   "execution_count": 42,
   "id": "e068619d",
   "metadata": {},
   "outputs": [
    {
     "data": {
      "text/plain": [
       "9    0.08478\n",
       "dtype: float64"
      ]
     },
     "execution_count": 42,
     "metadata": {},
     "output_type": "execute_result"
    }
   ],
   "source": [
    "s[-1:]"
   ]
  },
  {
   "cell_type": "code",
   "execution_count": 43,
   "id": "84260bb3",
   "metadata": {},
   "outputs": [
    {
     "data": {
      "text/plain": [
       "0    0.726477\n",
       "1    0.445563\n",
       "2    0.336204\n",
       "3    0.628642\n",
       "dtype: float64"
      ]
     },
     "execution_count": 43,
     "metadata": {},
     "output_type": "execute_result"
    }
   ],
   "source": [
    "s[:4]"
   ]
  },
  {
   "cell_type": "code",
   "execution_count": 44,
   "id": "547c8a04",
   "metadata": {},
   "outputs": [
    {
     "data": {
      "text/plain": [
       "0    0.726477\n",
       "1    0.445563\n",
       "2    0.336204\n",
       "3    0.628642\n",
       "4    0.658948\n",
       "5    0.781087\n",
       "6    0.782748\n",
       "7    0.784142\n",
       "8    0.746974\n",
       "dtype: float64"
      ]
     },
     "execution_count": 44,
     "metadata": {},
     "output_type": "execute_result"
    }
   ],
   "source": [
    "s[:-1]"
   ]
  },
  {
   "cell_type": "code",
   "execution_count": 45,
   "id": "d142110f",
   "metadata": {},
   "outputs": [
    {
     "data": {
      "text/plain": [
       "8    0.746974\n",
       "9    0.084780\n",
       "dtype: float64"
      ]
     },
     "execution_count": 45,
     "metadata": {},
     "output_type": "execute_result"
    }
   ],
   "source": [
    "s[-2:]"
   ]
  },
  {
   "cell_type": "code",
   "execution_count": 46,
   "id": "5d0021ce",
   "metadata": {},
   "outputs": [
    {
     "data": {
      "text/plain": [
       "a    1\n",
       "b    2\n",
       "c    3\n",
       "d    4\n",
       "e    5\n",
       "f    6\n",
       "g    7\n",
       "dtype: int32"
      ]
     },
     "execution_count": 46,
     "metadata": {},
     "output_type": "execute_result"
    }
   ],
   "source": [
    "s2 = s1.copy()\n",
    "s2"
   ]
  },
  {
   "cell_type": "code",
   "execution_count": 47,
   "id": "24a534c9",
   "metadata": {},
   "outputs": [
    {
     "data": {
      "text/plain": [
       "a1    10\n",
       "a2    20\n",
       "a3    30\n",
       "a4    40\n",
       "dtype: int64"
      ]
     },
     "execution_count": 47,
     "metadata": {},
     "output_type": "execute_result"
    }
   ],
   "source": [
    "s3"
   ]
  },
  {
   "cell_type": "code",
   "execution_count": 49,
   "id": "952913d5",
   "metadata": {},
   "outputs": [
    {
     "data": {
      "text/plain": [
       "a      1\n",
       "b      2\n",
       "c      3\n",
       "d      4\n",
       "e      5\n",
       "f      6\n",
       "g      7\n",
       "a1    10\n",
       "a2    20\n",
       "a3    30\n",
       "a4    40\n",
       "dtype: int64"
      ]
     },
     "execution_count": 49,
     "metadata": {},
     "output_type": "execute_result"
    }
   ],
   "source": [
    "s4 = s2.append(s3)\n",
    "s4"
   ]
  },
  {
   "cell_type": "code",
   "execution_count": 50,
   "id": "917cc436",
   "metadata": {},
   "outputs": [
    {
     "data": {
      "text/plain": [
       "a      1\n",
       "b      2\n",
       "c      3\n",
       "d      4\n",
       "e      5\n",
       "f      6\n",
       "g      7\n",
       "a1    10\n",
       "a2    20\n",
       "a3    30\n",
       "dtype: int64"
      ]
     },
     "execution_count": 50,
     "metadata": {},
     "output_type": "execute_result"
    }
   ],
   "source": [
    "s4.drop('a4', inplace = False)"
   ]
  },
  {
   "cell_type": "code",
   "execution_count": 51,
   "id": "17d74764",
   "metadata": {},
   "outputs": [
    {
     "data": {
      "text/plain": [
       "a      1\n",
       "b      2\n",
       "c      3\n",
       "d      4\n",
       "e      5\n",
       "f      6\n",
       "g      7\n",
       "a1    10\n",
       "a2    20\n",
       "a3    30\n",
       "a4    40\n",
       "dtype: int64"
      ]
     },
     "execution_count": 51,
     "metadata": {},
     "output_type": "execute_result"
    }
   ],
   "source": [
    "s4"
   ]
  },
  {
   "cell_type": "code",
   "execution_count": 52,
   "id": "54d1c814",
   "metadata": {},
   "outputs": [
    {
     "data": {
      "text/plain": [
       "a      1\n",
       "b      2\n",
       "c      3\n",
       "d      4\n",
       "e      5\n",
       "f      6\n",
       "g      7\n",
       "a1    10\n",
       "a2    20\n",
       "a3    30\n",
       "dtype: int64"
      ]
     },
     "execution_count": 52,
     "metadata": {},
     "output_type": "execute_result"
    }
   ],
   "source": [
    "s4.drop('a4', inplace = True)\n",
    "s4"
   ]
  },
  {
   "cell_type": "code",
   "execution_count": 53,
   "id": "df697634",
   "metadata": {},
   "outputs": [
    {
     "data": {
      "text/plain": [
       "a      1\n",
       "b      2\n",
       "c      3\n",
       "d      4\n",
       "e      5\n",
       "f      6\n",
       "g      7\n",
       "a1    10\n",
       "a2    20\n",
       "a3    30\n",
       "dtype: int64"
      ]
     },
     "execution_count": 53,
     "metadata": {},
     "output_type": "execute_result"
    }
   ],
   "source": [
    "s4"
   ]
  },
  {
   "cell_type": "code",
   "execution_count": 54,
   "id": "e340df16",
   "metadata": {},
   "outputs": [
    {
     "data": {
      "text/plain": [
       "a      1\n",
       "b      2\n",
       "c      3\n",
       "d      4\n",
       "e      5\n",
       "f      6\n",
       "g      7\n",
       "a1    10\n",
       "a2    20\n",
       "a3    30\n",
       "a4     7\n",
       "dtype: int64"
      ]
     },
     "execution_count": 54,
     "metadata": {},
     "output_type": "execute_result"
    }
   ],
   "source": [
    "s4 = s4.append(pd.Series({'a4':7}))\n",
    "s4"
   ]
  },
  {
   "cell_type": "code",
   "execution_count": 55,
   "id": "82a56b7f",
   "metadata": {},
   "outputs": [
    {
     "data": {
      "text/plain": [
       "(0    10\n",
       " 1    20\n",
       " 2    30\n",
       " dtype: int32,\n",
       " 0    1\n",
       " 1    2\n",
       " 2    3\n",
       " dtype: int32)"
      ]
     },
     "execution_count": 55,
     "metadata": {},
     "output_type": "execute_result"
    }
   ],
   "source": [
    "v1 = np.array([10, 20, 30])\n",
    "v2 = np.array([1,2,3])\n",
    "s1 = pd.Series(v1)\n",
    "s2 = pd.Series(v2)\n",
    "s1, s2"
   ]
  },
  {
   "cell_type": "code",
   "execution_count": 56,
   "id": "2da8a440",
   "metadata": {},
   "outputs": [
    {
     "data": {
      "text/plain": [
       "0    11\n",
       "1    22\n",
       "2    33\n",
       "dtype: int32"
      ]
     },
     "execution_count": 56,
     "metadata": {},
     "output_type": "execute_result"
    }
   ],
   "source": [
    "s1.add(s2)"
   ]
  },
  {
   "cell_type": "code",
   "execution_count": 57,
   "id": "922a8163",
   "metadata": {},
   "outputs": [
    {
     "data": {
      "text/plain": [
       "0     9\n",
       "1    18\n",
       "2    27\n",
       "dtype: int32"
      ]
     },
     "execution_count": 57,
     "metadata": {},
     "output_type": "execute_result"
    }
   ],
   "source": [
    "s1.sub(s2)"
   ]
  },
  {
   "cell_type": "code",
   "execution_count": 58,
   "id": "b577f1b5",
   "metadata": {},
   "outputs": [
    {
     "data": {
      "text/plain": [
       "0     9\n",
       "1    18\n",
       "2    27\n",
       "dtype: int32"
      ]
     },
     "execution_count": 58,
     "metadata": {},
     "output_type": "execute_result"
    }
   ],
   "source": [
    "s1.subtract(s2)"
   ]
  },
  {
   "cell_type": "code",
   "execution_count": 59,
   "id": "03919716",
   "metadata": {},
   "outputs": [
    {
     "data": {
      "text/plain": [
       "0    19\n",
       "1    29\n",
       "2    39\n",
       "dtype: int32"
      ]
     },
     "execution_count": 59,
     "metadata": {},
     "output_type": "execute_result"
    }
   ],
   "source": [
    "s1.add(9)"
   ]
  },
  {
   "cell_type": "code",
   "execution_count": 60,
   "id": "f7547708",
   "metadata": {},
   "outputs": [
    {
     "data": {
      "text/plain": [
       "0    10\n",
       "1    40\n",
       "2    90\n",
       "dtype: int32"
      ]
     },
     "execution_count": 60,
     "metadata": {},
     "output_type": "execute_result"
    }
   ],
   "source": [
    "s1.mul(s2)"
   ]
  },
  {
   "cell_type": "code",
   "execution_count": 61,
   "id": "af286fb7",
   "metadata": {},
   "outputs": [
    {
     "data": {
      "text/plain": [
       "0    10\n",
       "1    40\n",
       "2    90\n",
       "dtype: int32"
      ]
     },
     "execution_count": 61,
     "metadata": {},
     "output_type": "execute_result"
    }
   ],
   "source": [
    "s1.multiply(s2)"
   ]
  },
  {
   "cell_type": "code",
   "execution_count": 62,
   "id": "46f6bc7d",
   "metadata": {},
   "outputs": [
    {
     "data": {
      "text/plain": [
       "0    10000\n",
       "1    20000\n",
       "2    30000\n",
       "dtype: int32"
      ]
     },
     "execution_count": 62,
     "metadata": {},
     "output_type": "execute_result"
    }
   ],
   "source": [
    "s1.multiply(1000)"
   ]
  },
  {
   "cell_type": "code",
   "execution_count": 63,
   "id": "bb2405e6",
   "metadata": {},
   "outputs": [
    {
     "data": {
      "text/plain": [
       "0    10.0\n",
       "1    10.0\n",
       "2    10.0\n",
       "dtype: float64"
      ]
     },
     "execution_count": 63,
     "metadata": {},
     "output_type": "execute_result"
    }
   ],
   "source": [
    "s1.divide(s2)"
   ]
  },
  {
   "cell_type": "code",
   "execution_count": 64,
   "id": "6a45eeed",
   "metadata": {},
   "outputs": [
    {
     "data": {
      "text/plain": [
       "0    10.0\n",
       "1    10.0\n",
       "2    10.0\n",
       "dtype: float64"
      ]
     },
     "execution_count": 64,
     "metadata": {},
     "output_type": "execute_result"
    }
   ],
   "source": [
    "s1.div(s2)"
   ]
  },
  {
   "cell_type": "code",
   "execution_count": 65,
   "id": "1fd68641",
   "metadata": {},
   "outputs": [],
   "source": [
    "#min(), max(), mean(), median(), std()"
   ]
  },
  {
   "cell_type": "code",
   "execution_count": 66,
   "id": "e046dec5",
   "metadata": {},
   "outputs": [
    {
     "data": {
      "text/plain": [
       "False"
      ]
     },
     "execution_count": 66,
     "metadata": {},
     "output_type": "execute_result"
    }
   ],
   "source": [
    "s1.equals(s2)"
   ]
  },
  {
   "cell_type": "code",
   "execution_count": 67,
   "id": "a4c6fc73",
   "metadata": {},
   "outputs": [
    {
     "data": {
      "text/plain": [
       "0    1\n",
       "1    1\n",
       "2    2\n",
       "3    2\n",
       "4    3\n",
       "5    3\n",
       "dtype: int64"
      ]
     },
     "execution_count": 67,
     "metadata": {},
     "output_type": "execute_result"
    }
   ],
   "source": [
    "s5 = pd.Series([1,1,2,2,3,3],index=[0,1,2,3,4,5])\n",
    "s5"
   ]
  },
  {
   "cell_type": "code",
   "execution_count": 68,
   "id": "91f27c86",
   "metadata": {},
   "outputs": [
    {
     "data": {
      "text/plain": [
       "1    2\n",
       "2    2\n",
       "3    2\n",
       "dtype: int64"
      ]
     },
     "execution_count": 68,
     "metadata": {},
     "output_type": "execute_result"
    }
   ],
   "source": [
    "s5.value_counts()"
   ]
  },
  {
   "cell_type": "code",
   "execution_count": 69,
   "id": "e3d88ca7",
   "metadata": {},
   "outputs": [],
   "source": [
    "#DataFrames"
   ]
  },
  {
   "cell_type": "code",
   "execution_count": 70,
   "id": "44b8ae60",
   "metadata": {},
   "outputs": [
    {
     "data": {
      "text/html": [
       "<div>\n",
       "<style scoped>\n",
       "    .dataframe tbody tr th:only-of-type {\n",
       "        vertical-align: middle;\n",
       "    }\n",
       "\n",
       "    .dataframe tbody tr th {\n",
       "        vertical-align: top;\n",
       "    }\n",
       "\n",
       "    .dataframe thead th {\n",
       "        text-align: right;\n",
       "    }\n",
       "</style>\n",
       "<table border=\"1\" class=\"dataframe\">\n",
       "  <thead>\n",
       "    <tr style=\"text-align: right;\">\n",
       "      <th></th>\n",
       "    </tr>\n",
       "  </thead>\n",
       "  <tbody>\n",
       "  </tbody>\n",
       "</table>\n",
       "</div>"
      ],
      "text/plain": [
       "Empty DataFrame\n",
       "Columns: []\n",
       "Index: []"
      ]
     },
     "execution_count": 70,
     "metadata": {},
     "output_type": "execute_result"
    }
   ],
   "source": [
    "df = pd.DataFrame()\n",
    "df"
   ]
  },
  {
   "cell_type": "code",
   "execution_count": 71,
   "id": "c3b626b6",
   "metadata": {},
   "outputs": [
    {
     "data": {
      "text/html": [
       "<div>\n",
       "<style scoped>\n",
       "    .dataframe tbody tr th:only-of-type {\n",
       "        vertical-align: middle;\n",
       "    }\n",
       "\n",
       "    .dataframe tbody tr th {\n",
       "        vertical-align: top;\n",
       "    }\n",
       "\n",
       "    .dataframe thead th {\n",
       "        text-align: right;\n",
       "    }\n",
       "</style>\n",
       "<table border=\"1\" class=\"dataframe\">\n",
       "  <thead>\n",
       "    <tr style=\"text-align: right;\">\n",
       "      <th></th>\n",
       "      <th>0</th>\n",
       "    </tr>\n",
       "  </thead>\n",
       "  <tbody>\n",
       "    <tr>\n",
       "      <th>0</th>\n",
       "      <td>Java</td>\n",
       "    </tr>\n",
       "    <tr>\n",
       "      <th>1</th>\n",
       "      <td>Python</td>\n",
       "    </tr>\n",
       "    <tr>\n",
       "      <th>2</th>\n",
       "      <td>C</td>\n",
       "    </tr>\n",
       "    <tr>\n",
       "      <th>3</th>\n",
       "      <td>C++</td>\n",
       "    </tr>\n",
       "  </tbody>\n",
       "</table>\n",
       "</div>"
      ],
      "text/plain": [
       "        0\n",
       "0    Java\n",
       "1  Python\n",
       "2       C\n",
       "3     C++"
      ]
     },
     "execution_count": 71,
     "metadata": {},
     "output_type": "execute_result"
    }
   ],
   "source": [
    "lang = ['Java', 'Python', 'C', 'C++']\n",
    "df = pd.DataFrame(lang)\n",
    "df"
   ]
  },
  {
   "cell_type": "code",
   "execution_count": 72,
   "id": "7b208625",
   "metadata": {},
   "outputs": [
    {
     "data": {
      "text/html": [
       "<div>\n",
       "<style scoped>\n",
       "    .dataframe tbody tr th:only-of-type {\n",
       "        vertical-align: middle;\n",
       "    }\n",
       "\n",
       "    .dataframe tbody tr th {\n",
       "        vertical-align: top;\n",
       "    }\n",
       "\n",
       "    .dataframe thead th {\n",
       "        text-align: right;\n",
       "    }\n",
       "</style>\n",
       "<table border=\"1\" class=\"dataframe\">\n",
       "  <thead>\n",
       "    <tr style=\"text-align: right;\">\n",
       "      <th></th>\n",
       "      <th>0</th>\n",
       "      <th>kemal</th>\n",
       "    </tr>\n",
       "  </thead>\n",
       "  <tbody>\n",
       "    <tr>\n",
       "      <th>0</th>\n",
       "      <td>Java</td>\n",
       "      <td>1</td>\n",
       "    </tr>\n",
       "    <tr>\n",
       "      <th>1</th>\n",
       "      <td>Python</td>\n",
       "      <td>2</td>\n",
       "    </tr>\n",
       "    <tr>\n",
       "      <th>2</th>\n",
       "      <td>C</td>\n",
       "      <td>3</td>\n",
       "    </tr>\n",
       "    <tr>\n",
       "      <th>3</th>\n",
       "      <td>C++</td>\n",
       "      <td>4</td>\n",
       "    </tr>\n",
       "  </tbody>\n",
       "</table>\n",
       "</div>"
      ],
      "text/plain": [
       "        0  kemal\n",
       "0    Java      1\n",
       "1  Python      2\n",
       "2       C      3\n",
       "3     C++      4"
      ]
     },
     "execution_count": 72,
     "metadata": {},
     "output_type": "execute_result"
    }
   ],
   "source": [
    "rating = [1,2,3,4]\n",
    "df['kemal'] = rating\n",
    "df"
   ]
  },
  {
   "cell_type": "code",
   "execution_count": 73,
   "id": "eb93e4ff",
   "metadata": {},
   "outputs": [
    {
     "data": {
      "text/html": [
       "<div>\n",
       "<style scoped>\n",
       "    .dataframe tbody tr th:only-of-type {\n",
       "        vertical-align: middle;\n",
       "    }\n",
       "\n",
       "    .dataframe tbody tr th {\n",
       "        vertical-align: top;\n",
       "    }\n",
       "\n",
       "    .dataframe thead th {\n",
       "        text-align: right;\n",
       "    }\n",
       "</style>\n",
       "<table border=\"1\" class=\"dataframe\">\n",
       "  <thead>\n",
       "    <tr style=\"text-align: right;\">\n",
       "      <th></th>\n",
       "      <th>0</th>\n",
       "      <th>kemal</th>\n",
       "      <th>1</th>\n",
       "    </tr>\n",
       "  </thead>\n",
       "  <tbody>\n",
       "    <tr>\n",
       "      <th>0</th>\n",
       "      <td>Java</td>\n",
       "      <td>1</td>\n",
       "      <td>100</td>\n",
       "    </tr>\n",
       "    <tr>\n",
       "      <th>1</th>\n",
       "      <td>Python</td>\n",
       "      <td>2</td>\n",
       "      <td>90</td>\n",
       "    </tr>\n",
       "    <tr>\n",
       "      <th>2</th>\n",
       "      <td>C</td>\n",
       "      <td>3</td>\n",
       "      <td>80</td>\n",
       "    </tr>\n",
       "    <tr>\n",
       "      <th>3</th>\n",
       "      <td>C++</td>\n",
       "      <td>4</td>\n",
       "      <td>70</td>\n",
       "    </tr>\n",
       "  </tbody>\n",
       "</table>\n",
       "</div>"
      ],
      "text/plain": [
       "        0  kemal    1\n",
       "0    Java      1  100\n",
       "1  Python      2   90\n",
       "2       C      3   80\n",
       "3     C++      4   70"
      ]
     },
     "execution_count": 73,
     "metadata": {},
     "output_type": "execute_result"
    }
   ],
   "source": [
    "scores = [100, 90, 80, 70]\n",
    "df[1] = scores\n",
    "df"
   ]
  },
  {
   "cell_type": "code",
   "execution_count": 74,
   "id": "91d6be37",
   "metadata": {},
   "outputs": [],
   "source": [
    "df.columns = ['Language', 'Rating', 'Scores']"
   ]
  },
  {
   "cell_type": "code",
   "execution_count": 75,
   "id": "671729e7",
   "metadata": {},
   "outputs": [
    {
     "data": {
      "text/html": [
       "<div>\n",
       "<style scoped>\n",
       "    .dataframe tbody tr th:only-of-type {\n",
       "        vertical-align: middle;\n",
       "    }\n",
       "\n",
       "    .dataframe tbody tr th {\n",
       "        vertical-align: top;\n",
       "    }\n",
       "\n",
       "    .dataframe thead th {\n",
       "        text-align: right;\n",
       "    }\n",
       "</style>\n",
       "<table border=\"1\" class=\"dataframe\">\n",
       "  <thead>\n",
       "    <tr style=\"text-align: right;\">\n",
       "      <th></th>\n",
       "      <th>Language</th>\n",
       "      <th>Rating</th>\n",
       "      <th>Scores</th>\n",
       "    </tr>\n",
       "  </thead>\n",
       "  <tbody>\n",
       "    <tr>\n",
       "      <th>0</th>\n",
       "      <td>Java</td>\n",
       "      <td>1</td>\n",
       "      <td>100</td>\n",
       "    </tr>\n",
       "    <tr>\n",
       "      <th>1</th>\n",
       "      <td>Python</td>\n",
       "      <td>2</td>\n",
       "      <td>90</td>\n",
       "    </tr>\n",
       "    <tr>\n",
       "      <th>2</th>\n",
       "      <td>C</td>\n",
       "      <td>3</td>\n",
       "      <td>80</td>\n",
       "    </tr>\n",
       "    <tr>\n",
       "      <th>3</th>\n",
       "      <td>C++</td>\n",
       "      <td>4</td>\n",
       "      <td>70</td>\n",
       "    </tr>\n",
       "  </tbody>\n",
       "</table>\n",
       "</div>"
      ],
      "text/plain": [
       "  Language  Rating  Scores\n",
       "0     Java       1     100\n",
       "1   Python       2      90\n",
       "2        C       3      80\n",
       "3      C++       4      70"
      ]
     },
     "execution_count": 75,
     "metadata": {},
     "output_type": "execute_result"
    }
   ],
   "source": [
    "df"
   ]
  },
  {
   "cell_type": "code",
   "execution_count": 76,
   "id": "f589c3a6",
   "metadata": {},
   "outputs": [],
   "source": [
    "data = [{'a':1, 'b':2}, {'a':5, 'b':10, 'c':20}]\n",
    "\n",
    "df2 = pd.DataFrame(data)\n",
    "df3 = pd.DataFrame(data, index = ['row1', 'row2'], columns = ['a','b'])\n",
    "df4 = pd.DataFrame(data, index = ['row1', 'row2'], columns = ['a', 'b', 'c'])\n",
    "df5 = pd.DataFrame(data, index = ['row1', 'row2'], columns = ['a', 'b', 'c', 'd'])"
   ]
  },
  {
   "cell_type": "code",
   "execution_count": 77,
   "id": "81fd1f8b",
   "metadata": {},
   "outputs": [
    {
     "data": {
      "text/html": [
       "<div>\n",
       "<style scoped>\n",
       "    .dataframe tbody tr th:only-of-type {\n",
       "        vertical-align: middle;\n",
       "    }\n",
       "\n",
       "    .dataframe tbody tr th {\n",
       "        vertical-align: top;\n",
       "    }\n",
       "\n",
       "    .dataframe thead th {\n",
       "        text-align: right;\n",
       "    }\n",
       "</style>\n",
       "<table border=\"1\" class=\"dataframe\">\n",
       "  <thead>\n",
       "    <tr style=\"text-align: right;\">\n",
       "      <th></th>\n",
       "      <th>a</th>\n",
       "      <th>b</th>\n",
       "      <th>c</th>\n",
       "    </tr>\n",
       "  </thead>\n",
       "  <tbody>\n",
       "    <tr>\n",
       "      <th>0</th>\n",
       "      <td>1</td>\n",
       "      <td>2</td>\n",
       "      <td>NaN</td>\n",
       "    </tr>\n",
       "    <tr>\n",
       "      <th>1</th>\n",
       "      <td>5</td>\n",
       "      <td>10</td>\n",
       "      <td>20.0</td>\n",
       "    </tr>\n",
       "  </tbody>\n",
       "</table>\n",
       "</div>"
      ],
      "text/plain": [
       "   a   b     c\n",
       "0  1   2   NaN\n",
       "1  5  10  20.0"
      ]
     },
     "execution_count": 77,
     "metadata": {},
     "output_type": "execute_result"
    }
   ],
   "source": [
    "df2"
   ]
  },
  {
   "cell_type": "code",
   "execution_count": 78,
   "id": "c6b4fc9e",
   "metadata": {},
   "outputs": [
    {
     "data": {
      "text/html": [
       "<div>\n",
       "<style scoped>\n",
       "    .dataframe tbody tr th:only-of-type {\n",
       "        vertical-align: middle;\n",
       "    }\n",
       "\n",
       "    .dataframe tbody tr th {\n",
       "        vertical-align: top;\n",
       "    }\n",
       "\n",
       "    .dataframe thead th {\n",
       "        text-align: right;\n",
       "    }\n",
       "</style>\n",
       "<table border=\"1\" class=\"dataframe\">\n",
       "  <thead>\n",
       "    <tr style=\"text-align: right;\">\n",
       "      <th></th>\n",
       "      <th>a</th>\n",
       "      <th>b</th>\n",
       "    </tr>\n",
       "  </thead>\n",
       "  <tbody>\n",
       "    <tr>\n",
       "      <th>row1</th>\n",
       "      <td>1</td>\n",
       "      <td>2</td>\n",
       "    </tr>\n",
       "    <tr>\n",
       "      <th>row2</th>\n",
       "      <td>5</td>\n",
       "      <td>10</td>\n",
       "    </tr>\n",
       "  </tbody>\n",
       "</table>\n",
       "</div>"
      ],
      "text/plain": [
       "      a   b\n",
       "row1  1   2\n",
       "row2  5  10"
      ]
     },
     "execution_count": 78,
     "metadata": {},
     "output_type": "execute_result"
    }
   ],
   "source": [
    "df3"
   ]
  },
  {
   "cell_type": "code",
   "execution_count": 79,
   "id": "fe21f4b2",
   "metadata": {},
   "outputs": [
    {
     "data": {
      "text/html": [
       "<div>\n",
       "<style scoped>\n",
       "    .dataframe tbody tr th:only-of-type {\n",
       "        vertical-align: middle;\n",
       "    }\n",
       "\n",
       "    .dataframe tbody tr th {\n",
       "        vertical-align: top;\n",
       "    }\n",
       "\n",
       "    .dataframe thead th {\n",
       "        text-align: right;\n",
       "    }\n",
       "</style>\n",
       "<table border=\"1\" class=\"dataframe\">\n",
       "  <thead>\n",
       "    <tr style=\"text-align: right;\">\n",
       "      <th></th>\n",
       "      <th>a</th>\n",
       "      <th>b</th>\n",
       "      <th>c</th>\n",
       "    </tr>\n",
       "  </thead>\n",
       "  <tbody>\n",
       "    <tr>\n",
       "      <th>row1</th>\n",
       "      <td>1</td>\n",
       "      <td>2</td>\n",
       "      <td>NaN</td>\n",
       "    </tr>\n",
       "    <tr>\n",
       "      <th>row2</th>\n",
       "      <td>5</td>\n",
       "      <td>10</td>\n",
       "      <td>20.0</td>\n",
       "    </tr>\n",
       "  </tbody>\n",
       "</table>\n",
       "</div>"
      ],
      "text/plain": [
       "      a   b     c\n",
       "row1  1   2   NaN\n",
       "row2  5  10  20.0"
      ]
     },
     "execution_count": 79,
     "metadata": {},
     "output_type": "execute_result"
    }
   ],
   "source": [
    "df4"
   ]
  },
  {
   "cell_type": "code",
   "execution_count": 80,
   "id": "45093a3c",
   "metadata": {},
   "outputs": [
    {
     "data": {
      "text/html": [
       "<div>\n",
       "<style scoped>\n",
       "    .dataframe tbody tr th:only-of-type {\n",
       "        vertical-align: middle;\n",
       "    }\n",
       "\n",
       "    .dataframe tbody tr th {\n",
       "        vertical-align: top;\n",
       "    }\n",
       "\n",
       "    .dataframe thead th {\n",
       "        text-align: right;\n",
       "    }\n",
       "</style>\n",
       "<table border=\"1\" class=\"dataframe\">\n",
       "  <thead>\n",
       "    <tr style=\"text-align: right;\">\n",
       "      <th></th>\n",
       "      <th>a</th>\n",
       "      <th>b</th>\n",
       "      <th>c</th>\n",
       "      <th>d</th>\n",
       "    </tr>\n",
       "  </thead>\n",
       "  <tbody>\n",
       "    <tr>\n",
       "      <th>row1</th>\n",
       "      <td>1</td>\n",
       "      <td>2</td>\n",
       "      <td>NaN</td>\n",
       "      <td>NaN</td>\n",
       "    </tr>\n",
       "    <tr>\n",
       "      <th>row2</th>\n",
       "      <td>5</td>\n",
       "      <td>10</td>\n",
       "      <td>20.0</td>\n",
       "      <td>NaN</td>\n",
       "    </tr>\n",
       "  </tbody>\n",
       "</table>\n",
       "</div>"
      ],
      "text/plain": [
       "      a   b     c   d\n",
       "row1  1   2   NaN NaN\n",
       "row2  5  10  20.0 NaN"
      ]
     },
     "execution_count": 80,
     "metadata": {},
     "output_type": "execute_result"
    }
   ],
   "source": [
    "df5"
   ]
  },
  {
   "cell_type": "code",
   "execution_count": 81,
   "id": "41e8a61f",
   "metadata": {},
   "outputs": [
    {
     "data": {
      "text/plain": [
       "DatetimeIndex(['2022-09-16', '2022-09-17', '2022-09-18', '2022-09-19',\n",
       "               '2022-09-20', '2022-09-21', '2022-09-22'],\n",
       "              dtype='datetime64[ns]', freq='D')"
      ]
     },
     "execution_count": 81,
     "metadata": {},
     "output_type": "execute_result"
    }
   ],
   "source": [
    "dates = pd.date_range(start = '2022-09-16', end = '2022-09-22')\n",
    "dates"
   ]
  },
  {
   "cell_type": "code",
   "execution_count": 82,
   "id": "1384e0f0",
   "metadata": {},
   "outputs": [],
   "source": [
    "dates = pd.date_range('today', periods = 7)"
   ]
  },
  {
   "cell_type": "code",
   "execution_count": 83,
   "id": "9a5e99fd",
   "metadata": {},
   "outputs": [
    {
     "data": {
      "text/plain": [
       "DatetimeIndex(['2022-09-16 22:37:20.309354', '2022-09-17 22:37:20.309354',\n",
       "               '2022-09-18 22:37:20.309354', '2022-09-19 22:37:20.309354',\n",
       "               '2022-09-20 22:37:20.309354', '2022-09-21 22:37:20.309354',\n",
       "               '2022-09-22 22:37:20.309354'],\n",
       "              dtype='datetime64[ns]', freq='D')"
      ]
     },
     "execution_count": 83,
     "metadata": {},
     "output_type": "execute_result"
    }
   ],
   "source": [
    "dates"
   ]
  },
  {
   "cell_type": "code",
   "execution_count": 84,
   "id": "c78b1483",
   "metadata": {},
   "outputs": [],
   "source": [
    "dates = pd.date_range(start = '2022-09-16', periods = 7)"
   ]
  },
  {
   "cell_type": "code",
   "execution_count": 85,
   "id": "37a985b8",
   "metadata": {},
   "outputs": [
    {
     "data": {
      "text/plain": [
       "DatetimeIndex(['2022-09-16', '2022-09-17', '2022-09-18', '2022-09-19',\n",
       "               '2022-09-20', '2022-09-21', '2022-09-22'],\n",
       "              dtype='datetime64[ns]', freq='D')"
      ]
     },
     "execution_count": 85,
     "metadata": {},
     "output_type": "execute_result"
    }
   ],
   "source": [
    "dates"
   ]
  },
  {
   "cell_type": "code",
   "execution_count": 86,
   "id": "86a9fcce",
   "metadata": {},
   "outputs": [
    {
     "data": {
      "text/plain": [
       "array([[0.35500195, 0.92974109, 0.68774998, 0.21741458, 0.13679432,\n",
       "        0.85223941, 0.91099041],\n",
       "       [0.26436313, 0.8691829 , 0.31108272, 0.9637203 , 0.04485804,\n",
       "        0.62017385, 0.35182066],\n",
       "       [0.6228924 , 0.43453706, 0.2678102 , 0.41078379, 0.55193965,\n",
       "        0.45223185, 0.05820521],\n",
       "       [0.01938575, 0.99465671, 0.89243955, 0.33082039, 0.35279951,\n",
       "        0.89261794, 0.77302384],\n",
       "       [0.4441238 , 0.5509972 , 0.92519025, 0.78061661, 0.12300066,\n",
       "        0.23322539, 0.28811696],\n",
       "       [0.79987064, 0.66533919, 0.34752877, 0.27731671, 0.42062222,\n",
       "        0.12254124, 0.21216193],\n",
       "       [0.73171164, 0.49881071, 0.90072149, 0.02318179, 0.5251782 ,\n",
       "        0.11075644, 0.89666465]])"
      ]
     },
     "execution_count": 86,
     "metadata": {},
     "output_type": "execute_result"
    }
   ],
   "source": [
    "M = np.random.random((7,7))\n",
    "M"
   ]
  },
  {
   "cell_type": "code",
   "execution_count": 87,
   "id": "32a18a47",
   "metadata": {},
   "outputs": [
    {
     "data": {
      "text/html": [
       "<div>\n",
       "<style scoped>\n",
       "    .dataframe tbody tr th:only-of-type {\n",
       "        vertical-align: middle;\n",
       "    }\n",
       "\n",
       "    .dataframe tbody tr th {\n",
       "        vertical-align: top;\n",
       "    }\n",
       "\n",
       "    .dataframe thead th {\n",
       "        text-align: right;\n",
       "    }\n",
       "</style>\n",
       "<table border=\"1\" class=\"dataframe\">\n",
       "  <thead>\n",
       "    <tr style=\"text-align: right;\">\n",
       "      <th></th>\n",
       "      <th>0</th>\n",
       "      <th>1</th>\n",
       "      <th>2</th>\n",
       "      <th>3</th>\n",
       "      <th>4</th>\n",
       "      <th>5</th>\n",
       "      <th>6</th>\n",
       "    </tr>\n",
       "  </thead>\n",
       "  <tbody>\n",
       "    <tr>\n",
       "      <th>2022-09-16</th>\n",
       "      <td>0.355002</td>\n",
       "      <td>0.929741</td>\n",
       "      <td>0.687750</td>\n",
       "      <td>0.217415</td>\n",
       "      <td>0.136794</td>\n",
       "      <td>0.852239</td>\n",
       "      <td>0.910990</td>\n",
       "    </tr>\n",
       "    <tr>\n",
       "      <th>2022-09-17</th>\n",
       "      <td>0.264363</td>\n",
       "      <td>0.869183</td>\n",
       "      <td>0.311083</td>\n",
       "      <td>0.963720</td>\n",
       "      <td>0.044858</td>\n",
       "      <td>0.620174</td>\n",
       "      <td>0.351821</td>\n",
       "    </tr>\n",
       "    <tr>\n",
       "      <th>2022-09-18</th>\n",
       "      <td>0.622892</td>\n",
       "      <td>0.434537</td>\n",
       "      <td>0.267810</td>\n",
       "      <td>0.410784</td>\n",
       "      <td>0.551940</td>\n",
       "      <td>0.452232</td>\n",
       "      <td>0.058205</td>\n",
       "    </tr>\n",
       "    <tr>\n",
       "      <th>2022-09-19</th>\n",
       "      <td>0.019386</td>\n",
       "      <td>0.994657</td>\n",
       "      <td>0.892440</td>\n",
       "      <td>0.330820</td>\n",
       "      <td>0.352800</td>\n",
       "      <td>0.892618</td>\n",
       "      <td>0.773024</td>\n",
       "    </tr>\n",
       "    <tr>\n",
       "      <th>2022-09-20</th>\n",
       "      <td>0.444124</td>\n",
       "      <td>0.550997</td>\n",
       "      <td>0.925190</td>\n",
       "      <td>0.780617</td>\n",
       "      <td>0.123001</td>\n",
       "      <td>0.233225</td>\n",
       "      <td>0.288117</td>\n",
       "    </tr>\n",
       "    <tr>\n",
       "      <th>2022-09-21</th>\n",
       "      <td>0.799871</td>\n",
       "      <td>0.665339</td>\n",
       "      <td>0.347529</td>\n",
       "      <td>0.277317</td>\n",
       "      <td>0.420622</td>\n",
       "      <td>0.122541</td>\n",
       "      <td>0.212162</td>\n",
       "    </tr>\n",
       "    <tr>\n",
       "      <th>2022-09-22</th>\n",
       "      <td>0.731712</td>\n",
       "      <td>0.498811</td>\n",
       "      <td>0.900721</td>\n",
       "      <td>0.023182</td>\n",
       "      <td>0.525178</td>\n",
       "      <td>0.110756</td>\n",
       "      <td>0.896665</td>\n",
       "    </tr>\n",
       "  </tbody>\n",
       "</table>\n",
       "</div>"
      ],
      "text/plain": [
       "                   0         1         2         3         4         5  \\\n",
       "2022-09-16  0.355002  0.929741  0.687750  0.217415  0.136794  0.852239   \n",
       "2022-09-17  0.264363  0.869183  0.311083  0.963720  0.044858  0.620174   \n",
       "2022-09-18  0.622892  0.434537  0.267810  0.410784  0.551940  0.452232   \n",
       "2022-09-19  0.019386  0.994657  0.892440  0.330820  0.352800  0.892618   \n",
       "2022-09-20  0.444124  0.550997  0.925190  0.780617  0.123001  0.233225   \n",
       "2022-09-21  0.799871  0.665339  0.347529  0.277317  0.420622  0.122541   \n",
       "2022-09-22  0.731712  0.498811  0.900721  0.023182  0.525178  0.110756   \n",
       "\n",
       "                   6  \n",
       "2022-09-16  0.910990  \n",
       "2022-09-17  0.351821  \n",
       "2022-09-18  0.058205  \n",
       "2022-09-19  0.773024  \n",
       "2022-09-20  0.288117  \n",
       "2022-09-21  0.212162  \n",
       "2022-09-22  0.896665  "
      ]
     },
     "execution_count": 87,
     "metadata": {},
     "output_type": "execute_result"
    }
   ],
   "source": [
    "dframe = pd.DataFrame(M, index = dates)\n",
    "dframe"
   ]
  },
  {
   "cell_type": "code",
   "execution_count": 88,
   "id": "0a56e9e3",
   "metadata": {},
   "outputs": [
    {
     "data": {
      "text/html": [
       "<div>\n",
       "<style scoped>\n",
       "    .dataframe tbody tr th:only-of-type {\n",
       "        vertical-align: middle;\n",
       "    }\n",
       "\n",
       "    .dataframe tbody tr th {\n",
       "        vertical-align: top;\n",
       "    }\n",
       "\n",
       "    .dataframe thead th {\n",
       "        text-align: right;\n",
       "    }\n",
       "</style>\n",
       "<table border=\"1\" class=\"dataframe\">\n",
       "  <thead>\n",
       "    <tr style=\"text-align: right;\">\n",
       "      <th></th>\n",
       "      <th>C1</th>\n",
       "      <th>C2</th>\n",
       "      <th>C3</th>\n",
       "      <th>C4</th>\n",
       "      <th>C5</th>\n",
       "      <th>C6</th>\n",
       "      <th>C7</th>\n",
       "    </tr>\n",
       "  </thead>\n",
       "  <tbody>\n",
       "    <tr>\n",
       "      <th>2022-09-16</th>\n",
       "      <td>0.355002</td>\n",
       "      <td>0.929741</td>\n",
       "      <td>0.687750</td>\n",
       "      <td>0.217415</td>\n",
       "      <td>0.136794</td>\n",
       "      <td>0.852239</td>\n",
       "      <td>0.910990</td>\n",
       "    </tr>\n",
       "    <tr>\n",
       "      <th>2022-09-17</th>\n",
       "      <td>0.264363</td>\n",
       "      <td>0.869183</td>\n",
       "      <td>0.311083</td>\n",
       "      <td>0.963720</td>\n",
       "      <td>0.044858</td>\n",
       "      <td>0.620174</td>\n",
       "      <td>0.351821</td>\n",
       "    </tr>\n",
       "    <tr>\n",
       "      <th>2022-09-18</th>\n",
       "      <td>0.622892</td>\n",
       "      <td>0.434537</td>\n",
       "      <td>0.267810</td>\n",
       "      <td>0.410784</td>\n",
       "      <td>0.551940</td>\n",
       "      <td>0.452232</td>\n",
       "      <td>0.058205</td>\n",
       "    </tr>\n",
       "    <tr>\n",
       "      <th>2022-09-19</th>\n",
       "      <td>0.019386</td>\n",
       "      <td>0.994657</td>\n",
       "      <td>0.892440</td>\n",
       "      <td>0.330820</td>\n",
       "      <td>0.352800</td>\n",
       "      <td>0.892618</td>\n",
       "      <td>0.773024</td>\n",
       "    </tr>\n",
       "    <tr>\n",
       "      <th>2022-09-20</th>\n",
       "      <td>0.444124</td>\n",
       "      <td>0.550997</td>\n",
       "      <td>0.925190</td>\n",
       "      <td>0.780617</td>\n",
       "      <td>0.123001</td>\n",
       "      <td>0.233225</td>\n",
       "      <td>0.288117</td>\n",
       "    </tr>\n",
       "    <tr>\n",
       "      <th>2022-09-21</th>\n",
       "      <td>0.799871</td>\n",
       "      <td>0.665339</td>\n",
       "      <td>0.347529</td>\n",
       "      <td>0.277317</td>\n",
       "      <td>0.420622</td>\n",
       "      <td>0.122541</td>\n",
       "      <td>0.212162</td>\n",
       "    </tr>\n",
       "    <tr>\n",
       "      <th>2022-09-22</th>\n",
       "      <td>0.731712</td>\n",
       "      <td>0.498811</td>\n",
       "      <td>0.900721</td>\n",
       "      <td>0.023182</td>\n",
       "      <td>0.525178</td>\n",
       "      <td>0.110756</td>\n",
       "      <td>0.896665</td>\n",
       "    </tr>\n",
       "  </tbody>\n",
       "</table>\n",
       "</div>"
      ],
      "text/plain": [
       "                  C1        C2        C3        C4        C5        C6  \\\n",
       "2022-09-16  0.355002  0.929741  0.687750  0.217415  0.136794  0.852239   \n",
       "2022-09-17  0.264363  0.869183  0.311083  0.963720  0.044858  0.620174   \n",
       "2022-09-18  0.622892  0.434537  0.267810  0.410784  0.551940  0.452232   \n",
       "2022-09-19  0.019386  0.994657  0.892440  0.330820  0.352800  0.892618   \n",
       "2022-09-20  0.444124  0.550997  0.925190  0.780617  0.123001  0.233225   \n",
       "2022-09-21  0.799871  0.665339  0.347529  0.277317  0.420622  0.122541   \n",
       "2022-09-22  0.731712  0.498811  0.900721  0.023182  0.525178  0.110756   \n",
       "\n",
       "                  C7  \n",
       "2022-09-16  0.910990  \n",
       "2022-09-17  0.351821  \n",
       "2022-09-18  0.058205  \n",
       "2022-09-19  0.773024  \n",
       "2022-09-20  0.288117  \n",
       "2022-09-21  0.212162  \n",
       "2022-09-22  0.896665  "
      ]
     },
     "execution_count": 88,
     "metadata": {},
     "output_type": "execute_result"
    }
   ],
   "source": [
    "dframe.columns = ['C1', 'C2', 'C3', 'C4', 'C5', 'C6', 'C7']\n",
    "dframe"
   ]
  },
  {
   "cell_type": "code",
   "execution_count": 89,
   "id": "f08353a4",
   "metadata": {},
   "outputs": [
    {
     "data": {
      "text/plain": [
       "DatetimeIndex(['2022-09-16', '2022-09-17', '2022-09-18', '2022-09-19',\n",
       "               '2022-09-20', '2022-09-21', '2022-09-22'],\n",
       "              dtype='datetime64[ns]', freq='D')"
      ]
     },
     "execution_count": 89,
     "metadata": {},
     "output_type": "execute_result"
    }
   ],
   "source": [
    "dframe.index"
   ]
  },
  {
   "cell_type": "code",
   "execution_count": 90,
   "id": "636e2d51",
   "metadata": {},
   "outputs": [
    {
     "data": {
      "text/plain": [
       "Index(['C1', 'C2', 'C3', 'C4', 'C5', 'C6', 'C7'], dtype='object')"
      ]
     },
     "execution_count": 90,
     "metadata": {},
     "output_type": "execute_result"
    }
   ],
   "source": [
    "dframe.columns"
   ]
  },
  {
   "cell_type": "code",
   "execution_count": 91,
   "id": "f0e3be15",
   "metadata": {},
   "outputs": [
    {
     "data": {
      "text/plain": [
       "C1    float64\n",
       "C2    float64\n",
       "C3    float64\n",
       "C4    float64\n",
       "C5    float64\n",
       "C6    float64\n",
       "C7    float64\n",
       "dtype: object"
      ]
     },
     "execution_count": 91,
     "metadata": {},
     "output_type": "execute_result"
    }
   ],
   "source": [
    "dframe.dtypes"
   ]
  },
  {
   "cell_type": "code",
   "execution_count": 92,
   "id": "04ec7895",
   "metadata": {},
   "outputs": [
    {
     "data": {
      "text/html": [
       "<div>\n",
       "<style scoped>\n",
       "    .dataframe tbody tr th:only-of-type {\n",
       "        vertical-align: middle;\n",
       "    }\n",
       "\n",
       "    .dataframe tbody tr th {\n",
       "        vertical-align: top;\n",
       "    }\n",
       "\n",
       "    .dataframe thead th {\n",
       "        text-align: right;\n",
       "    }\n",
       "</style>\n",
       "<table border=\"1\" class=\"dataframe\">\n",
       "  <thead>\n",
       "    <tr style=\"text-align: right;\">\n",
       "      <th></th>\n",
       "      <th>C1</th>\n",
       "      <th>C2</th>\n",
       "      <th>C3</th>\n",
       "      <th>C4</th>\n",
       "      <th>C5</th>\n",
       "      <th>C6</th>\n",
       "      <th>C7</th>\n",
       "    </tr>\n",
       "  </thead>\n",
       "  <tbody>\n",
       "    <tr>\n",
       "      <th>2022-09-19</th>\n",
       "      <td>0.019386</td>\n",
       "      <td>0.994657</td>\n",
       "      <td>0.892440</td>\n",
       "      <td>0.330820</td>\n",
       "      <td>0.352800</td>\n",
       "      <td>0.892618</td>\n",
       "      <td>0.773024</td>\n",
       "    </tr>\n",
       "    <tr>\n",
       "      <th>2022-09-17</th>\n",
       "      <td>0.264363</td>\n",
       "      <td>0.869183</td>\n",
       "      <td>0.311083</td>\n",
       "      <td>0.963720</td>\n",
       "      <td>0.044858</td>\n",
       "      <td>0.620174</td>\n",
       "      <td>0.351821</td>\n",
       "    </tr>\n",
       "    <tr>\n",
       "      <th>2022-09-16</th>\n",
       "      <td>0.355002</td>\n",
       "      <td>0.929741</td>\n",
       "      <td>0.687750</td>\n",
       "      <td>0.217415</td>\n",
       "      <td>0.136794</td>\n",
       "      <td>0.852239</td>\n",
       "      <td>0.910990</td>\n",
       "    </tr>\n",
       "    <tr>\n",
       "      <th>2022-09-20</th>\n",
       "      <td>0.444124</td>\n",
       "      <td>0.550997</td>\n",
       "      <td>0.925190</td>\n",
       "      <td>0.780617</td>\n",
       "      <td>0.123001</td>\n",
       "      <td>0.233225</td>\n",
       "      <td>0.288117</td>\n",
       "    </tr>\n",
       "    <tr>\n",
       "      <th>2022-09-18</th>\n",
       "      <td>0.622892</td>\n",
       "      <td>0.434537</td>\n",
       "      <td>0.267810</td>\n",
       "      <td>0.410784</td>\n",
       "      <td>0.551940</td>\n",
       "      <td>0.452232</td>\n",
       "      <td>0.058205</td>\n",
       "    </tr>\n",
       "    <tr>\n",
       "      <th>2022-09-22</th>\n",
       "      <td>0.731712</td>\n",
       "      <td>0.498811</td>\n",
       "      <td>0.900721</td>\n",
       "      <td>0.023182</td>\n",
       "      <td>0.525178</td>\n",
       "      <td>0.110756</td>\n",
       "      <td>0.896665</td>\n",
       "    </tr>\n",
       "    <tr>\n",
       "      <th>2022-09-21</th>\n",
       "      <td>0.799871</td>\n",
       "      <td>0.665339</td>\n",
       "      <td>0.347529</td>\n",
       "      <td>0.277317</td>\n",
       "      <td>0.420622</td>\n",
       "      <td>0.122541</td>\n",
       "      <td>0.212162</td>\n",
       "    </tr>\n",
       "  </tbody>\n",
       "</table>\n",
       "</div>"
      ],
      "text/plain": [
       "                  C1        C2        C3        C4        C5        C6  \\\n",
       "2022-09-19  0.019386  0.994657  0.892440  0.330820  0.352800  0.892618   \n",
       "2022-09-17  0.264363  0.869183  0.311083  0.963720  0.044858  0.620174   \n",
       "2022-09-16  0.355002  0.929741  0.687750  0.217415  0.136794  0.852239   \n",
       "2022-09-20  0.444124  0.550997  0.925190  0.780617  0.123001  0.233225   \n",
       "2022-09-18  0.622892  0.434537  0.267810  0.410784  0.551940  0.452232   \n",
       "2022-09-22  0.731712  0.498811  0.900721  0.023182  0.525178  0.110756   \n",
       "2022-09-21  0.799871  0.665339  0.347529  0.277317  0.420622  0.122541   \n",
       "\n",
       "                  C7  \n",
       "2022-09-19  0.773024  \n",
       "2022-09-17  0.351821  \n",
       "2022-09-16  0.910990  \n",
       "2022-09-20  0.288117  \n",
       "2022-09-18  0.058205  \n",
       "2022-09-22  0.896665  \n",
       "2022-09-21  0.212162  "
      ]
     },
     "execution_count": 92,
     "metadata": {},
     "output_type": "execute_result"
    }
   ],
   "source": [
    "dframe.sort_values(by = 'C1') #ascending"
   ]
  },
  {
   "cell_type": "code",
   "execution_count": 93,
   "id": "c1fd15f4",
   "metadata": {},
   "outputs": [
    {
     "data": {
      "text/html": [
       "<div>\n",
       "<style scoped>\n",
       "    .dataframe tbody tr th:only-of-type {\n",
       "        vertical-align: middle;\n",
       "    }\n",
       "\n",
       "    .dataframe tbody tr th {\n",
       "        vertical-align: top;\n",
       "    }\n",
       "\n",
       "    .dataframe thead th {\n",
       "        text-align: right;\n",
       "    }\n",
       "</style>\n",
       "<table border=\"1\" class=\"dataframe\">\n",
       "  <thead>\n",
       "    <tr style=\"text-align: right;\">\n",
       "      <th></th>\n",
       "      <th>C1</th>\n",
       "      <th>C2</th>\n",
       "      <th>C3</th>\n",
       "      <th>C4</th>\n",
       "      <th>C5</th>\n",
       "      <th>C6</th>\n",
       "      <th>C7</th>\n",
       "    </tr>\n",
       "  </thead>\n",
       "  <tbody>\n",
       "    <tr>\n",
       "      <th>2022-09-21</th>\n",
       "      <td>0.799871</td>\n",
       "      <td>0.665339</td>\n",
       "      <td>0.347529</td>\n",
       "      <td>0.277317</td>\n",
       "      <td>0.420622</td>\n",
       "      <td>0.122541</td>\n",
       "      <td>0.212162</td>\n",
       "    </tr>\n",
       "    <tr>\n",
       "      <th>2022-09-22</th>\n",
       "      <td>0.731712</td>\n",
       "      <td>0.498811</td>\n",
       "      <td>0.900721</td>\n",
       "      <td>0.023182</td>\n",
       "      <td>0.525178</td>\n",
       "      <td>0.110756</td>\n",
       "      <td>0.896665</td>\n",
       "    </tr>\n",
       "    <tr>\n",
       "      <th>2022-09-18</th>\n",
       "      <td>0.622892</td>\n",
       "      <td>0.434537</td>\n",
       "      <td>0.267810</td>\n",
       "      <td>0.410784</td>\n",
       "      <td>0.551940</td>\n",
       "      <td>0.452232</td>\n",
       "      <td>0.058205</td>\n",
       "    </tr>\n",
       "    <tr>\n",
       "      <th>2022-09-20</th>\n",
       "      <td>0.444124</td>\n",
       "      <td>0.550997</td>\n",
       "      <td>0.925190</td>\n",
       "      <td>0.780617</td>\n",
       "      <td>0.123001</td>\n",
       "      <td>0.233225</td>\n",
       "      <td>0.288117</td>\n",
       "    </tr>\n",
       "    <tr>\n",
       "      <th>2022-09-16</th>\n",
       "      <td>0.355002</td>\n",
       "      <td>0.929741</td>\n",
       "      <td>0.687750</td>\n",
       "      <td>0.217415</td>\n",
       "      <td>0.136794</td>\n",
       "      <td>0.852239</td>\n",
       "      <td>0.910990</td>\n",
       "    </tr>\n",
       "    <tr>\n",
       "      <th>2022-09-17</th>\n",
       "      <td>0.264363</td>\n",
       "      <td>0.869183</td>\n",
       "      <td>0.311083</td>\n",
       "      <td>0.963720</td>\n",
       "      <td>0.044858</td>\n",
       "      <td>0.620174</td>\n",
       "      <td>0.351821</td>\n",
       "    </tr>\n",
       "    <tr>\n",
       "      <th>2022-09-19</th>\n",
       "      <td>0.019386</td>\n",
       "      <td>0.994657</td>\n",
       "      <td>0.892440</td>\n",
       "      <td>0.330820</td>\n",
       "      <td>0.352800</td>\n",
       "      <td>0.892618</td>\n",
       "      <td>0.773024</td>\n",
       "    </tr>\n",
       "  </tbody>\n",
       "</table>\n",
       "</div>"
      ],
      "text/plain": [
       "                  C1        C2        C3        C4        C5        C6  \\\n",
       "2022-09-21  0.799871  0.665339  0.347529  0.277317  0.420622  0.122541   \n",
       "2022-09-22  0.731712  0.498811  0.900721  0.023182  0.525178  0.110756   \n",
       "2022-09-18  0.622892  0.434537  0.267810  0.410784  0.551940  0.452232   \n",
       "2022-09-20  0.444124  0.550997  0.925190  0.780617  0.123001  0.233225   \n",
       "2022-09-16  0.355002  0.929741  0.687750  0.217415  0.136794  0.852239   \n",
       "2022-09-17  0.264363  0.869183  0.311083  0.963720  0.044858  0.620174   \n",
       "2022-09-19  0.019386  0.994657  0.892440  0.330820  0.352800  0.892618   \n",
       "\n",
       "                  C7  \n",
       "2022-09-21  0.212162  \n",
       "2022-09-22  0.896665  \n",
       "2022-09-18  0.058205  \n",
       "2022-09-20  0.288117  \n",
       "2022-09-16  0.910990  \n",
       "2022-09-17  0.351821  \n",
       "2022-09-19  0.773024  "
      ]
     },
     "execution_count": 93,
     "metadata": {},
     "output_type": "execute_result"
    }
   ],
   "source": [
    "dframe.sort_values(by = 'C1', ascending = False)"
   ]
  },
  {
   "cell_type": "code",
   "execution_count": 94,
   "id": "c0089677",
   "metadata": {},
   "outputs": [
    {
     "ename": "NameError",
     "evalue": "name 'df1' is not defined",
     "output_type": "error",
     "traceback": [
      "\u001b[1;31m---------------------------------------------------------------------------\u001b[0m",
      "\u001b[1;31mNameError\u001b[0m                                 Traceback (most recent call last)",
      "\u001b[1;32m<ipython-input-94-6a861a8b3f1a>\u001b[0m in \u001b[0;36m<module>\u001b[1;34m\u001b[0m\n\u001b[1;32m----> 1\u001b[1;33m \u001b[0mdf1\u001b[0m\u001b[1;33m\u001b[0m\u001b[1;33m\u001b[0m\u001b[0m\n\u001b[0m",
      "\u001b[1;31mNameError\u001b[0m: name 'df1' is not defined"
     ]
    }
   ],
   "source": [
    "df1"
   ]
  },
  {
   "cell_type": "code",
   "execution_count": 95,
   "id": "18e62be0",
   "metadata": {},
   "outputs": [
    {
     "data": {
      "text/html": [
       "<div>\n",
       "<style scoped>\n",
       "    .dataframe tbody tr th:only-of-type {\n",
       "        vertical-align: middle;\n",
       "    }\n",
       "\n",
       "    .dataframe tbody tr th {\n",
       "        vertical-align: top;\n",
       "    }\n",
       "\n",
       "    .dataframe thead th {\n",
       "        text-align: right;\n",
       "    }\n",
       "</style>\n",
       "<table border=\"1\" class=\"dataframe\">\n",
       "  <thead>\n",
       "    <tr style=\"text-align: right;\">\n",
       "      <th></th>\n",
       "      <th>a</th>\n",
       "      <th>b</th>\n",
       "      <th>c</th>\n",
       "    </tr>\n",
       "  </thead>\n",
       "  <tbody>\n",
       "    <tr>\n",
       "      <th>0</th>\n",
       "      <td>1</td>\n",
       "      <td>2</td>\n",
       "      <td>NaN</td>\n",
       "    </tr>\n",
       "    <tr>\n",
       "      <th>1</th>\n",
       "      <td>5</td>\n",
       "      <td>10</td>\n",
       "      <td>20.0</td>\n",
       "    </tr>\n",
       "  </tbody>\n",
       "</table>\n",
       "</div>"
      ],
      "text/plain": [
       "   a   b     c\n",
       "0  1   2   NaN\n",
       "1  5  10  20.0"
      ]
     },
     "execution_count": 95,
     "metadata": {},
     "output_type": "execute_result"
    }
   ],
   "source": [
    "df2"
   ]
  },
  {
   "cell_type": "code",
   "execution_count": 96,
   "id": "9b4a14ef",
   "metadata": {},
   "outputs": [
    {
     "data": {
      "text/html": [
       "<div>\n",
       "<style scoped>\n",
       "    .dataframe tbody tr th:only-of-type {\n",
       "        vertical-align: middle;\n",
       "    }\n",
       "\n",
       "    .dataframe tbody tr th {\n",
       "        vertical-align: top;\n",
       "    }\n",
       "\n",
       "    .dataframe thead th {\n",
       "        text-align: right;\n",
       "    }\n",
       "</style>\n",
       "<table border=\"1\" class=\"dataframe\">\n",
       "  <thead>\n",
       "    <tr style=\"text-align: right;\">\n",
       "      <th></th>\n",
       "      <th>a</th>\n",
       "      <th>b</th>\n",
       "      <th>c</th>\n",
       "      <th>d</th>\n",
       "    </tr>\n",
       "  </thead>\n",
       "  <tbody>\n",
       "    <tr>\n",
       "      <th>row1</th>\n",
       "      <td>1</td>\n",
       "      <td>2</td>\n",
       "      <td>NaN</td>\n",
       "      <td>NaN</td>\n",
       "    </tr>\n",
       "    <tr>\n",
       "      <th>row2</th>\n",
       "      <td>5</td>\n",
       "      <td>10</td>\n",
       "      <td>20.0</td>\n",
       "      <td>NaN</td>\n",
       "    </tr>\n",
       "  </tbody>\n",
       "</table>\n",
       "</div>"
      ],
      "text/plain": [
       "      a   b     c   d\n",
       "row1  1   2   NaN NaN\n",
       "row2  5  10  20.0 NaN"
      ]
     },
     "execution_count": 96,
     "metadata": {},
     "output_type": "execute_result"
    }
   ],
   "source": [
    "df5"
   ]
  },
  {
   "cell_type": "code",
   "execution_count": 97,
   "id": "6baab9cf",
   "metadata": {},
   "outputs": [],
   "source": [
    "del df5['d']"
   ]
  },
  {
   "cell_type": "code",
   "execution_count": 98,
   "id": "033241d8",
   "metadata": {},
   "outputs": [
    {
     "data": {
      "text/html": [
       "<div>\n",
       "<style scoped>\n",
       "    .dataframe tbody tr th:only-of-type {\n",
       "        vertical-align: middle;\n",
       "    }\n",
       "\n",
       "    .dataframe tbody tr th {\n",
       "        vertical-align: top;\n",
       "    }\n",
       "\n",
       "    .dataframe thead th {\n",
       "        text-align: right;\n",
       "    }\n",
       "</style>\n",
       "<table border=\"1\" class=\"dataframe\">\n",
       "  <thead>\n",
       "    <tr style=\"text-align: right;\">\n",
       "      <th></th>\n",
       "      <th>a</th>\n",
       "      <th>b</th>\n",
       "      <th>c</th>\n",
       "    </tr>\n",
       "  </thead>\n",
       "  <tbody>\n",
       "    <tr>\n",
       "      <th>row1</th>\n",
       "      <td>1</td>\n",
       "      <td>2</td>\n",
       "      <td>NaN</td>\n",
       "    </tr>\n",
       "    <tr>\n",
       "      <th>row2</th>\n",
       "      <td>5</td>\n",
       "      <td>10</td>\n",
       "      <td>20.0</td>\n",
       "    </tr>\n",
       "  </tbody>\n",
       "</table>\n",
       "</div>"
      ],
      "text/plain": [
       "      a   b     c\n",
       "row1  1   2   NaN\n",
       "row2  5  10  20.0"
      ]
     },
     "execution_count": 98,
     "metadata": {},
     "output_type": "execute_result"
    }
   ],
   "source": [
    "df5"
   ]
  },
  {
   "cell_type": "code",
   "execution_count": 99,
   "id": "200b96f9",
   "metadata": {},
   "outputs": [
    {
     "data": {
      "text/plain": [
       "row1     NaN\n",
       "row2    20.0\n",
       "Name: c, dtype: float64"
      ]
     },
     "execution_count": 99,
     "metadata": {},
     "output_type": "execute_result"
    }
   ],
   "source": [
    "df5.pop('c')"
   ]
  },
  {
   "cell_type": "code",
   "execution_count": 100,
   "id": "944b768a",
   "metadata": {},
   "outputs": [
    {
     "data": {
      "text/html": [
       "<div>\n",
       "<style scoped>\n",
       "    .dataframe tbody tr th:only-of-type {\n",
       "        vertical-align: middle;\n",
       "    }\n",
       "\n",
       "    .dataframe tbody tr th {\n",
       "        vertical-align: top;\n",
       "    }\n",
       "\n",
       "    .dataframe thead th {\n",
       "        text-align: right;\n",
       "    }\n",
       "</style>\n",
       "<table border=\"1\" class=\"dataframe\">\n",
       "  <thead>\n",
       "    <tr style=\"text-align: right;\">\n",
       "      <th></th>\n",
       "      <th>a</th>\n",
       "      <th>b</th>\n",
       "    </tr>\n",
       "  </thead>\n",
       "  <tbody>\n",
       "    <tr>\n",
       "      <th>row1</th>\n",
       "      <td>1</td>\n",
       "      <td>2</td>\n",
       "    </tr>\n",
       "    <tr>\n",
       "      <th>row2</th>\n",
       "      <td>5</td>\n",
       "      <td>10</td>\n",
       "    </tr>\n",
       "  </tbody>\n",
       "</table>\n",
       "</div>"
      ],
      "text/plain": [
       "      a   b\n",
       "row1  1   2\n",
       "row2  5  10"
      ]
     },
     "execution_count": 100,
     "metadata": {},
     "output_type": "execute_result"
    }
   ],
   "source": [
    "df5"
   ]
  },
  {
   "cell_type": "code",
   "execution_count": 101,
   "id": "92f6aaf6",
   "metadata": {},
   "outputs": [
    {
     "data": {
      "text/html": [
       "<div>\n",
       "<style scoped>\n",
       "    .dataframe tbody tr th:only-of-type {\n",
       "        vertical-align: middle;\n",
       "    }\n",
       "\n",
       "    .dataframe tbody tr th {\n",
       "        vertical-align: top;\n",
       "    }\n",
       "\n",
       "    .dataframe thead th {\n",
       "        text-align: right;\n",
       "    }\n",
       "</style>\n",
       "<table border=\"1\" class=\"dataframe\">\n",
       "  <thead>\n",
       "    <tr style=\"text-align: right;\">\n",
       "      <th></th>\n",
       "      <th>a</th>\n",
       "    </tr>\n",
       "  </thead>\n",
       "  <tbody>\n",
       "    <tr>\n",
       "      <th>row1</th>\n",
       "      <td>1</td>\n",
       "    </tr>\n",
       "    <tr>\n",
       "      <th>row2</th>\n",
       "      <td>5</td>\n",
       "    </tr>\n",
       "  </tbody>\n",
       "</table>\n",
       "</div>"
      ],
      "text/plain": [
       "      a\n",
       "row1  1\n",
       "row2  5"
      ]
     },
     "execution_count": 101,
     "metadata": {},
     "output_type": "execute_result"
    }
   ],
   "source": [
    "df5.drop(['b'], axis = 1, inplace = True)\n",
    "df5"
   ]
  },
  {
   "cell_type": "code",
   "execution_count": null,
   "id": "eea31153",
   "metadata": {},
   "outputs": [],
   "source": [
    "#Pandas Satır Silme"
   ]
  }
 ],
 "metadata": {
  "kernelspec": {
   "display_name": "Python 3",
   "language": "python",
   "name": "python3"
  },
  "language_info": {
   "codemirror_mode": {
    "name": "ipython",
    "version": 3
   },
   "file_extension": ".py",
   "mimetype": "text/x-python",
   "name": "python",
   "nbconvert_exporter": "python",
   "pygments_lexer": "ipython3",
   "version": "3.8.8"
  }
 },
 "nbformat": 4,
 "nbformat_minor": 5
}
