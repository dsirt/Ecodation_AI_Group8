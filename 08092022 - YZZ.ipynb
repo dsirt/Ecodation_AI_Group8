{
 "cells": [
  {
   "cell_type": "code",
   "execution_count": 1,
   "id": "a9f8074d",
   "metadata": {},
   "outputs": [],
   "source": [
    "from numpy import *\n",
    "import time\n",
    "def trad_version ():\n",
    "    t1 = time . time ()\n",
    "    X = range (10000000)\n",
    "    Y = range (10000000)\n",
    "    Z = []\n",
    "    for i in range (len (X)):\n",
    "        Z. append (X[i] + Y[i])\n",
    "    return time . time () - t1"
   ]
  },
  {
   "cell_type": "code",
   "execution_count": 2,
   "id": "0582e57f",
   "metadata": {},
   "outputs": [
    {
     "data": {
      "text/plain": [
       "7.371243000030518"
      ]
     },
     "execution_count": 2,
     "metadata": {},
     "output_type": "execute_result"
    }
   ],
   "source": [
    "trad_version()"
   ]
  },
  {
   "cell_type": "code",
   "execution_count": 3,
   "id": "0deffb43",
   "metadata": {},
   "outputs": [],
   "source": [
    "def numpy_version ():\n",
    "    t1 = time . time ()\n",
    "    X = arange (10000000)\n",
    "    Y = arange (10000000)\n",
    "    Z = X + Y\n",
    "    return time . time () - t1"
   ]
  },
  {
   "cell_type": "code",
   "execution_count": 4,
   "id": "188740c3",
   "metadata": {},
   "outputs": [
    {
     "data": {
      "text/plain": [
       "0.05584979057312012"
      ]
     },
     "execution_count": 4,
     "metadata": {},
     "output_type": "execute_result"
    }
   ],
   "source": [
    "numpy_version()"
   ]
  },
  {
   "cell_type": "code",
   "execution_count": 5,
   "id": "8ba7f840",
   "metadata": {},
   "outputs": [],
   "source": [
    "import numpy as np\n",
    "import warnings\n",
    "warnings.filterwarnings(\"ignore\")"
   ]
  },
  {
   "cell_type": "code",
   "execution_count": 6,
   "id": "cefb6160",
   "metadata": {},
   "outputs": [
    {
     "data": {
      "text/plain": [
       "[10, 20, 30, 40, 50, 60]"
      ]
     },
     "execution_count": 6,
     "metadata": {},
     "output_type": "execute_result"
    }
   ],
   "source": [
    "list1 = [10, 20, 30, 40, 50, 60]\n",
    "list1"
   ]
  },
  {
   "cell_type": "code",
   "execution_count": 7,
   "id": "5e6a1d69",
   "metadata": {},
   "outputs": [
    {
     "data": {
      "text/plain": [
       "list"
      ]
     },
     "execution_count": 7,
     "metadata": {},
     "output_type": "execute_result"
    }
   ],
   "source": [
    "type(list1)"
   ]
  },
  {
   "cell_type": "code",
   "execution_count": 8,
   "id": "6d20a043",
   "metadata": {},
   "outputs": [
    {
     "data": {
      "text/plain": [
       "array([10, 20, 30, 40, 50, 60])"
      ]
     },
     "execution_count": 8,
     "metadata": {},
     "output_type": "execute_result"
    }
   ],
   "source": [
    "arr1 = np.array(list1)\n",
    "arr1"
   ]
  },
  {
   "cell_type": "code",
   "execution_count": 9,
   "id": "30a4b165",
   "metadata": {},
   "outputs": [
    {
     "data": {
      "text/plain": [
       "<memory at 0x00000272F6C26F40>"
      ]
     },
     "execution_count": 9,
     "metadata": {},
     "output_type": "execute_result"
    }
   ],
   "source": [
    "arr1.data"
   ]
  },
  {
   "cell_type": "code",
   "execution_count": 10,
   "id": "ccafbbe1",
   "metadata": {},
   "outputs": [
    {
     "data": {
      "text/plain": [
       "numpy.ndarray"
      ]
     },
     "execution_count": 10,
     "metadata": {},
     "output_type": "execute_result"
    }
   ],
   "source": [
    "type(arr1)"
   ]
  },
  {
   "cell_type": "code",
   "execution_count": 11,
   "id": "18a8bdb8",
   "metadata": {},
   "outputs": [
    {
     "data": {
      "text/plain": [
       "dtype('int32')"
      ]
     },
     "execution_count": 11,
     "metadata": {},
     "output_type": "execute_result"
    }
   ],
   "source": [
    "arr1.dtype"
   ]
  },
  {
   "cell_type": "code",
   "execution_count": 12,
   "id": "70f5a692",
   "metadata": {},
   "outputs": [
    {
     "data": {
      "text/plain": [
       "array([10., 20., 30., 40., 50., 60.])"
      ]
     },
     "execution_count": 12,
     "metadata": {},
     "output_type": "execute_result"
    }
   ],
   "source": [
    "arr1.astype(float)"
   ]
  },
  {
   "cell_type": "code",
   "execution_count": 13,
   "id": "d030f07a",
   "metadata": {},
   "outputs": [
    {
     "data": {
      "text/plain": [
       "array([0, 1, 2, 3, 4, 5, 6, 7, 8, 9])"
      ]
     },
     "execution_count": 13,
     "metadata": {},
     "output_type": "execute_result"
    }
   ],
   "source": [
    "np.arange(0, 10)"
   ]
  },
  {
   "cell_type": "code",
   "execution_count": 14,
   "id": "2057a3ad",
   "metadata": {},
   "outputs": [
    {
     "name": "stdout",
     "output_type": "stream",
     "text": [
      "Numpy Array:[1 2 3]\n",
      "List: [1, 2, 3]\n"
     ]
    }
   ],
   "source": [
    "arr = np.array([1,2,3])\n",
    "print(f'Numpy Array:{arr}')\n",
    "\n",
    "mylist = arr.tolist()\n",
    "print(f'List: {mylist}')"
   ]
  },
  {
   "cell_type": "code",
   "execution_count": 15,
   "id": "dde2077d",
   "metadata": {},
   "outputs": [
    {
     "data": {
      "text/plain": [
       "array([ 0, 10, 20, 30, 40, 50, 60, 70, 80, 90])"
      ]
     },
     "execution_count": 15,
     "metadata": {},
     "output_type": "execute_result"
    }
   ],
   "source": [
    "np.arange(0, 100, 10)"
   ]
  },
  {
   "cell_type": "code",
   "execution_count": 16,
   "id": "1c298527",
   "metadata": {},
   "outputs": [
    {
     "data": {
      "text/plain": [
       "array([100,  90,  80,  70,  60,  50,  40,  30,  20,  10])"
      ]
     },
     "execution_count": 16,
     "metadata": {},
     "output_type": "execute_result"
    }
   ],
   "source": [
    "np.arange(100, 0, -10)"
   ]
  },
  {
   "cell_type": "code",
   "execution_count": 17,
   "id": "2271b404",
   "metadata": {},
   "outputs": [
    {
     "data": {
      "text/plain": [
       "(10,)"
      ]
     },
     "execution_count": 17,
     "metadata": {},
     "output_type": "execute_result"
    }
   ],
   "source": [
    "arr3 = np.arange(0, 10)\n",
    "arr3.shape"
   ]
  },
  {
   "cell_type": "code",
   "execution_count": 18,
   "id": "8166047a",
   "metadata": {},
   "outputs": [
    {
     "data": {
      "text/plain": [
       "dtype('int32')"
      ]
     },
     "execution_count": 18,
     "metadata": {},
     "output_type": "execute_result"
    }
   ],
   "source": [
    "arr3.dtype"
   ]
  },
  {
   "cell_type": "code",
   "execution_count": 19,
   "id": "3fdafef7",
   "metadata": {},
   "outputs": [
    {
     "data": {
      "text/plain": [
       "40"
      ]
     },
     "execution_count": 19,
     "metadata": {},
     "output_type": "execute_result"
    }
   ],
   "source": [
    "arr3.nbytes"
   ]
  },
  {
   "cell_type": "code",
   "execution_count": 20,
   "id": "b7aac6eb",
   "metadata": {},
   "outputs": [
    {
     "data": {
      "text/plain": [
       "10"
      ]
     },
     "execution_count": 20,
     "metadata": {},
     "output_type": "execute_result"
    }
   ],
   "source": [
    "len(arr3)"
   ]
  },
  {
   "cell_type": "code",
   "execution_count": 21,
   "id": "47bd42fd",
   "metadata": {},
   "outputs": [
    {
     "data": {
      "text/plain": [
       "array([0., 0., 0., 0., 0., 0., 0., 0., 0., 0.])"
      ]
     },
     "execution_count": 21,
     "metadata": {},
     "output_type": "execute_result"
    }
   ],
   "source": [
    "np.zeros(10)"
   ]
  },
  {
   "cell_type": "code",
   "execution_count": 22,
   "id": "966cd1f3",
   "metadata": {},
   "outputs": [
    {
     "data": {
      "text/plain": [
       "array([1., 1., 1., 1., 1., 1., 1., 1., 1., 1.])"
      ]
     },
     "execution_count": 22,
     "metadata": {},
     "output_type": "execute_result"
    }
   ],
   "source": [
    "np.ones(10)"
   ]
  },
  {
   "cell_type": "code",
   "execution_count": 23,
   "id": "ff174ad7",
   "metadata": {},
   "outputs": [
    {
     "data": {
      "text/plain": [
       "array([10, 10, 10, 10, 10])"
      ]
     },
     "execution_count": 23,
     "metadata": {},
     "output_type": "execute_result"
    }
   ],
   "source": [
    "np.repeat(10, 5)"
   ]
  },
  {
   "cell_type": "code",
   "execution_count": 24,
   "id": "260c04e1",
   "metadata": {},
   "outputs": [
    {
     "data": {
      "text/plain": [
       "array([10, 10, 10, 20, 20, 20, 30, 30, 30])"
      ]
     },
     "execution_count": 24,
     "metadata": {},
     "output_type": "execute_result"
    }
   ],
   "source": [
    "a = np.array([10,20,30])\n",
    "np.repeat(a, 3)"
   ]
  },
  {
   "cell_type": "code",
   "execution_count": 25,
   "id": "1a5cb264",
   "metadata": {},
   "outputs": [
    {
     "data": {
      "text/plain": [
       "array([ 1,  3,  5,  7,  9, 11, 13, 15, 17, 19])"
      ]
     },
     "execution_count": 25,
     "metadata": {},
     "output_type": "execute_result"
    }
   ],
   "source": [
    "ar1 = np.arange(1, 20)\n",
    "ar1[ar1 %2 == 1]"
   ]
  },
  {
   "cell_type": "code",
   "execution_count": 26,
   "id": "1282a33c",
   "metadata": {},
   "outputs": [
    {
     "data": {
      "text/plain": [
       "array([ 2,  4,  6,  8, 10, 12, 14, 16, 18])"
      ]
     },
     "execution_count": 26,
     "metadata": {},
     "output_type": "execute_result"
    }
   ],
   "source": [
    "ar1 = np.arange(1, 20)\n",
    "ar1[ar1 %2 == 0]"
   ]
  },
  {
   "cell_type": "code",
   "execution_count": 27,
   "id": "50ac6b90",
   "metadata": {},
   "outputs": [
    {
     "data": {
      "text/plain": [
       "array([10.        , 13.33333333, 16.66666667, 20.        ])"
      ]
     },
     "execution_count": 27,
     "metadata": {},
     "output_type": "execute_result"
    }
   ],
   "source": [
    "np.linspace(10, 20, 4)"
   ]
  },
  {
   "cell_type": "code",
   "execution_count": 29,
   "id": "f1704c3e",
   "metadata": {},
   "outputs": [
    {
     "data": {
      "text/plain": [
       "array([10., 11., 12., 13., 14., 15., 16., 17., 18., 19., 20.])"
      ]
     },
     "execution_count": 29,
     "metadata": {},
     "output_type": "execute_result"
    }
   ],
   "source": [
    "np.linspace(10, 20, 11)"
   ]
  },
  {
   "cell_type": "code",
   "execution_count": 30,
   "id": "750499bf",
   "metadata": {},
   "outputs": [
    {
     "data": {
      "text/plain": [
       "array([0.27051669, 0.07733409, 0.5815883 , 0.66287756])"
      ]
     },
     "execution_count": 30,
     "metadata": {},
     "output_type": "execute_result"
    }
   ],
   "source": [
    "np.random.random(4)"
   ]
  },
  {
   "cell_type": "code",
   "execution_count": 31,
   "id": "512149ab",
   "metadata": {},
   "outputs": [
    {
     "data": {
      "text/plain": [
       "array([ 81, 470, 412, 163, 371])"
      ]
     },
     "execution_count": 31,
     "metadata": {},
     "output_type": "execute_result"
    }
   ],
   "source": [
    "np.random.randint(0, 500, 5)"
   ]
  },
  {
   "cell_type": "code",
   "execution_count": 32,
   "id": "21c0753e",
   "metadata": {},
   "outputs": [
    {
     "data": {
      "text/plain": [
       "array([ 20, 337, 403, 181, 170,  33,  28,  76,   1, 364])"
      ]
     },
     "execution_count": 32,
     "metadata": {},
     "output_type": "execute_result"
    }
   ],
   "source": [
    "np.random.randint(0, 500, 10)"
   ]
  },
  {
   "cell_type": "code",
   "execution_count": 33,
   "id": "e1fdf84d",
   "metadata": {},
   "outputs": [
    {
     "data": {
      "text/plain": [
       "array([66, 92, 98, 17, 83, 57, 86, 97, 96, 47])"
      ]
     },
     "execution_count": 33,
     "metadata": {},
     "output_type": "execute_result"
    }
   ],
   "source": [
    "np.random.seed(123)\n",
    "np.random.randint(0, 100, 10)"
   ]
  },
  {
   "cell_type": "code",
   "execution_count": 34,
   "id": "237dde33",
   "metadata": {},
   "outputs": [
    {
     "data": {
      "text/plain": [
       "array([66, 92, 98, 17, 83, 57, 86, 97, 96, 47])"
      ]
     },
     "execution_count": 34,
     "metadata": {},
     "output_type": "execute_result"
    }
   ],
   "source": [
    "np.random.seed(123)\n",
    "np.random.randint(0, 100, 10)"
   ]
  },
  {
   "cell_type": "code",
   "execution_count": 35,
   "id": "49fb2e6d",
   "metadata": {},
   "outputs": [
    {
     "data": {
      "text/plain": [
       "array([95, 11, 81, 70, 63, 87, 75,  9, 77, 40])"
      ]
     },
     "execution_count": 35,
     "metadata": {},
     "output_type": "execute_result"
    }
   ],
   "source": [
    "np.random.seed(101)\n",
    "np.random.randint(0, 100, 10)"
   ]
  },
  {
   "cell_type": "code",
   "execution_count": 36,
   "id": "0abb24c6",
   "metadata": {},
   "outputs": [
    {
     "data": {
      "text/plain": [
       "array([95, 11, 81, 70, 63, 87, 75,  9, 77, 40])"
      ]
     },
     "execution_count": 36,
     "metadata": {},
     "output_type": "execute_result"
    }
   ],
   "source": [
    "np.random.seed(101)\n",
    "np.random.randint(0, 100, 10)"
   ]
  },
  {
   "cell_type": "code",
   "execution_count": 37,
   "id": "453d94d7",
   "metadata": {},
   "outputs": [],
   "source": [
    "f1 = np.random.uniform(5, 10, size = (10))"
   ]
  },
  {
   "cell_type": "code",
   "execution_count": 38,
   "id": "64d99d94",
   "metadata": {},
   "outputs": [
    {
     "data": {
      "text/plain": [
       "array([6.5348311 , 9.4680654 , 8.60771931, 5.94969477, 7.77113796,\n",
       "       6.76065977, 5.90946201, 8.92800881, 9.82741611, 6.16176831])"
      ]
     },
     "execution_count": 38,
     "metadata": {},
     "output_type": "execute_result"
    }
   ],
   "source": [
    "f1"
   ]
  },
  {
   "cell_type": "code",
   "execution_count": 39,
   "id": "c461db65",
   "metadata": {},
   "outputs": [
    {
     "data": {
      "text/plain": [
       "array([6., 9., 8., 5., 7., 6., 5., 8., 9., 6.])"
      ]
     },
     "execution_count": 39,
     "metadata": {},
     "output_type": "execute_result"
    }
   ],
   "source": [
    "np.floor(f1)"
   ]
  },
  {
   "cell_type": "code",
   "execution_count": 40,
   "id": "7b67b056",
   "metadata": {},
   "outputs": [
    {
     "data": {
      "text/plain": [
       "array([6., 9., 8., 5., 7., 6., 5., 8., 9., 6.])"
      ]
     },
     "execution_count": 40,
     "metadata": {},
     "output_type": "execute_result"
    }
   ],
   "source": [
    "np.trunc(f1)"
   ]
  },
  {
   "cell_type": "code",
   "execution_count": 41,
   "id": "b8276bdb",
   "metadata": {},
   "outputs": [
    {
     "data": {
      "text/plain": [
       "array([6, 9, 8, 5, 7, 6, 5, 8, 9, 6])"
      ]
     },
     "execution_count": 41,
     "metadata": {},
     "output_type": "execute_result"
    }
   ],
   "source": [
    "f1.astype(int)"
   ]
  },
  {
   "cell_type": "code",
   "execution_count": 44,
   "id": "c4f5796b",
   "metadata": {},
   "outputs": [
    {
     "data": {
      "text/plain": [
       "array([7.60332698, 7.89394768, 8.67409529, 7.70980886, 9.56576779,\n",
       "       9.03960075, 7.01498915, 6.78612171, 9.76438357, 6.71815789])"
      ]
     },
     "execution_count": 44,
     "metadata": {},
     "output_type": "execute_result"
    }
   ],
   "source": [
    "f2 = np.random.uniform(5, 10, size = (10))\n",
    "f2"
   ]
  },
  {
   "cell_type": "code",
   "execution_count": 45,
   "id": "94e9a46f",
   "metadata": {},
   "outputs": [
    {
     "data": {
      "text/plain": [
       "array([7, 7, 8, 7, 9, 9, 7, 6, 9, 6])"
      ]
     },
     "execution_count": 45,
     "metadata": {},
     "output_type": "execute_result"
    }
   ],
   "source": [
    "f2.astype(int)"
   ]
  },
  {
   "cell_type": "code",
   "execution_count": 46,
   "id": "39289514",
   "metadata": {},
   "outputs": [],
   "source": [
    "b2 = np.random.randn(10)"
   ]
  },
  {
   "cell_type": "code",
   "execution_count": 47,
   "id": "179f7cfb",
   "metadata": {},
   "outputs": [
    {
     "data": {
      "text/plain": [
       "array([ 0.16690464,  0.18450186,  0.80770591,  0.07295968,  0.63878701,\n",
       "        0.3296463 , -0.49710402, -0.7540697 , -0.9434064 ,  0.48475165])"
      ]
     },
     "execution_count": 47,
     "metadata": {},
     "output_type": "execute_result"
    }
   ],
   "source": [
    "b2"
   ]
  },
  {
   "cell_type": "code",
   "execution_count": 48,
   "id": "43981713",
   "metadata": {},
   "outputs": [
    {
     "data": {
      "text/plain": [
       "array([10, 20, 30, 40, 50, 60])"
      ]
     },
     "execution_count": 48,
     "metadata": {},
     "output_type": "execute_result"
    }
   ],
   "source": [
    "arr1"
   ]
  },
  {
   "cell_type": "code",
   "execution_count": 49,
   "id": "a592b647",
   "metadata": {},
   "outputs": [
    {
     "name": "stdout",
     "output_type": "stream",
     "text": [
      "(0,) 10\n",
      "(1,) 20\n",
      "(2,) 30\n",
      "(3,) 40\n",
      "(4,) 50\n",
      "(5,) 60\n"
     ]
    }
   ],
   "source": [
    "for index, value in np.ndenumerate(arr1):\n",
    "    print(index, value)"
   ]
  },
  {
   "cell_type": "code",
   "execution_count": 50,
   "id": "7c7c7c7a",
   "metadata": {},
   "outputs": [],
   "source": [
    "#Numpy dizileri üzerinde yapılan operasyonlar"
   ]
  },
  {
   "cell_type": "code",
   "execution_count": 51,
   "id": "bfd4781f",
   "metadata": {},
   "outputs": [
    {
     "data": {
      "text/plain": [
       "array([ 1,  2,  3,  4,  5,  6,  7,  8,  9, 10, 11, 12, 13, 14, 15, 16, 17,\n",
       "       18, 19])"
      ]
     },
     "execution_count": 51,
     "metadata": {},
     "output_type": "execute_result"
    }
   ],
   "source": [
    "arr2 = np.arange(1, 20)\n",
    "arr2"
   ]
  },
  {
   "cell_type": "code",
   "execution_count": 52,
   "id": "f94ba25f",
   "metadata": {},
   "outputs": [
    {
     "data": {
      "text/plain": [
       "190"
      ]
     },
     "execution_count": 52,
     "metadata": {},
     "output_type": "execute_result"
    }
   ],
   "source": [
    "arr2.sum()"
   ]
  },
  {
   "cell_type": "code",
   "execution_count": 53,
   "id": "4699e763",
   "metadata": {},
   "outputs": [
    {
     "data": {
      "text/plain": [
       "array([  1,   3,   6,  10,  15,  21,  28,  36,  45,  55,  66,  78,  91,\n",
       "       105, 120, 136, 153, 171, 190], dtype=int32)"
      ]
     },
     "execution_count": 53,
     "metadata": {},
     "output_type": "execute_result"
    }
   ],
   "source": [
    "np.cumsum(arr2)"
   ]
  },
  {
   "cell_type": "code",
   "execution_count": 54,
   "id": "2cfad1e6",
   "metadata": {},
   "outputs": [],
   "source": [
    "#min, max, argmin, argmax, mean, var"
   ]
  },
  {
   "cell_type": "code",
   "execution_count": 55,
   "id": "96187d6d",
   "metadata": {},
   "outputs": [
    {
     "data": {
      "text/plain": [
       "5.477225575051661"
      ]
     },
     "execution_count": 55,
     "metadata": {},
     "output_type": "execute_result"
    }
   ],
   "source": [
    "np.std(arr2)"
   ]
  },
  {
   "cell_type": "code",
   "execution_count": 56,
   "id": "0762d97e",
   "metadata": {},
   "outputs": [
    {
     "data": {
      "text/plain": [
       "array([[ 1,  2,  3,  0],\n",
       "       [ 5,  6,  7, 22],\n",
       "       [10, 11,  1, 13],\n",
       "       [14, 15, 16,  3]])"
      ]
     },
     "execution_count": 56,
     "metadata": {},
     "output_type": "execute_result"
    }
   ],
   "source": [
    "A = np.array([[1,2,3,0],[5,6,7,22],[10,11,1,13],[14,15,16,3]])\n",
    "A"
   ]
  },
  {
   "cell_type": "code",
   "execution_count": 57,
   "id": "20e898b8",
   "metadata": {},
   "outputs": [],
   "source": [
    "#sum, max, min, mean, var, std"
   ]
  },
  {
   "cell_type": "code",
   "execution_count": 58,
   "id": "6d4de3d3",
   "metadata": {},
   "outputs": [
    {
     "data": {
      "text/plain": [
       "array([1, 2, 1, 0])"
      ]
     },
     "execution_count": 58,
     "metadata": {},
     "output_type": "execute_result"
    }
   ],
   "source": [
    "np.amin(A, axis = 0) #sütun tabanlı minimum"
   ]
  },
  {
   "cell_type": "code",
   "execution_count": 59,
   "id": "c807ea5a",
   "metadata": {},
   "outputs": [
    {
     "data": {
      "text/plain": [
       "array([0, 5, 1, 3])"
      ]
     },
     "execution_count": 59,
     "metadata": {},
     "output_type": "execute_result"
    }
   ],
   "source": [
    "np.amin(A, axis = 1) #satır tabanlı minimum"
   ]
  },
  {
   "cell_type": "code",
   "execution_count": 60,
   "id": "ba464738",
   "metadata": {},
   "outputs": [
    {
     "name": "stdout",
     "output_type": "stream",
     "text": [
      "(0, 0) 1\n",
      "(0, 1) 2\n",
      "(0, 2) 3\n",
      "(0, 3) 0\n",
      "(1, 0) 5\n",
      "(1, 1) 6\n",
      "(1, 2) 7\n",
      "(1, 3) 22\n",
      "(2, 0) 10\n",
      "(2, 1) 11\n",
      "(2, 2) 1\n",
      "(2, 3) 13\n",
      "(3, 0) 14\n",
      "(3, 1) 15\n",
      "(3, 2) 16\n",
      "(3, 3) 3\n"
     ]
    }
   ],
   "source": [
    "for index, value in np.ndenumerate(A):\n",
    "    print(index, value)"
   ]
  },
  {
   "cell_type": "code",
   "execution_count": null,
   "id": "ed996391",
   "metadata": {},
   "outputs": [],
   "source": []
  }
 ],
 "metadata": {
  "kernelspec": {
   "display_name": "Python 3",
   "language": "python",
   "name": "python3"
  },
  "language_info": {
   "codemirror_mode": {
    "name": "ipython",
    "version": 3
   },
   "file_extension": ".py",
   "mimetype": "text/x-python",
   "name": "python",
   "nbconvert_exporter": "python",
   "pygments_lexer": "ipython3",
   "version": "3.8.8"
  }
 },
 "nbformat": 4,
 "nbformat_minor": 5
}
